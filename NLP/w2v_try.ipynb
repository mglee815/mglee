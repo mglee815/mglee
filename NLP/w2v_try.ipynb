{
 "cells": [
  {
   "cell_type": "code",
   "execution_count": 2,
   "metadata": {},
   "outputs": [],
   "source": [
    "import pandas as pd\n",
    "import numpy as np "
   ]
  },
  {
   "cell_type": "code",
   "execution_count": 4,
   "metadata": {},
   "outputs": [],
   "source": [
    "df = pd.read_pickle('/home/mglee/VSCODE/complain/2030birth/df_2030.pk')"
   ]
  },
  {
   "cell_type": "code",
   "execution_count": 5,
   "metadata": {},
   "outputs": [
    {
     "data": {
      "text/html": [
       "<div>\n",
       "<style scoped>\n",
       "    .dataframe tbody tr th:only-of-type {\n",
       "        vertical-align: middle;\n",
       "    }\n",
       "\n",
       "    .dataframe tbody tr th {\n",
       "        vertical-align: top;\n",
       "    }\n",
       "\n",
       "    .dataframe thead th {\n",
       "        text-align: right;\n",
       "    }\n",
       "</style>\n",
       "<table border=\"1\" class=\"dataframe\">\n",
       "  <thead>\n",
       "    <tr style=\"text-align: right;\">\n",
       "      <th></th>\n",
       "      <th>제목</th>\n",
       "      <th>본문</th>\n",
       "      <th>민원발생지</th>\n",
       "      <th>민원신청경로</th>\n",
       "      <th>접수기관</th>\n",
       "      <th>처리부서</th>\n",
       "      <th>성별</th>\n",
       "      <th>나이</th>\n",
       "      <th>접수일</th>\n",
       "      <th>year</th>\n",
       "      <th>type</th>\n",
       "    </tr>\n",
       "  </thead>\n",
       "  <tbody>\n",
       "    <tr>\n",
       "      <th>0</th>\n",
       "      <td>로스쿨 특별전형 입학자 생계급여공제 관련청원</td>\n",
       "      <td>안녕하세요. 서울내 모대학교 법학전문대학원에 재학하고 있는 학생입니다. 법학전문대학...</td>\n",
       "      <td>서울특별시</td>\n",
       "      <td>국민신문고 Web</td>\n",
       "      <td>보건복지부</td>\n",
       "      <td>보건복지부 사회복지정책실 복지정책관 자립지원과</td>\n",
       "      <td>남자</td>\n",
       "      <td>36</td>\n",
       "      <td>2018-03-16 11:06:25</td>\n",
       "      <td>2018</td>\n",
       "      <td>일반</td>\n",
       "    </tr>\n",
       "    <tr>\n",
       "      <th>1</th>\n",
       "      <td>아파트 단지내에 장애인 주차구역</td>\n",
       "      <td>단지 내 주차구역도 신고가 되나요?\\n\\n다들 주차공간부족하고 눈치봐가면서 주차하고...</td>\n",
       "      <td>광주광역시</td>\n",
       "      <td>국민신문고 APP</td>\n",
       "      <td>광주광역시 북구</td>\n",
       "      <td>광주광역시 북구 복지경제국 노인장애인복지과</td>\n",
       "      <td>여자</td>\n",
       "      <td>34</td>\n",
       "      <td>2018-03-16 10:58:33</td>\n",
       "      <td>2018</td>\n",
       "      <td>일반</td>\n",
       "    </tr>\n",
       "    <tr>\n",
       "      <th>2</th>\n",
       "      <td>적법하지 못한 형태로 교습을 진행하고 있는 불법업체를 고발합니다.</td>\n",
       "      <td>[피민원인 정보] \\r\\n- 상호명 : 원주스파르타스터디센터독서실\\r\\n- 주소 :...</td>\n",
       "      <td>경기도</td>\n",
       "      <td>국민신문고 Web</td>\n",
       "      <td>강원도교육청</td>\n",
       "      <td>강원도교육청 강원도원주교육지원청 행정과</td>\n",
       "      <td>남자</td>\n",
       "      <td>38</td>\n",
       "      <td>2018-03-16 11:19:26</td>\n",
       "      <td>2018</td>\n",
       "      <td>일반</td>\n",
       "    </tr>\n",
       "    <tr>\n",
       "      <th>3</th>\n",
       "      <td>제품명 영문 혼용 표시 문의</td>\n",
       "      <td>귀 처의 무궁한 발전을 기원합니다. \\r\\n\\r\\n문의드리고자 함은 아래와 같습니다...</td>\n",
       "      <td>서울특별시</td>\n",
       "      <td>국민신문고 기관프레임 Web</td>\n",
       "      <td>식품의약품안전처</td>\n",
       "      <td>식품의약품안전처 식품안전정책국 식품안전표시인증과</td>\n",
       "      <td>남자</td>\n",
       "      <td>36</td>\n",
       "      <td>2018-03-16 14:20:20</td>\n",
       "      <td>2018</td>\n",
       "      <td>일반</td>\n",
       "    </tr>\n",
       "    <tr>\n",
       "      <th>4</th>\n",
       "      <td>온천천 도로 공사 관련 민원 신청의 건</td>\n",
       "      <td>안녕하세요 금정구에 거주중인 회사원입니다.\\r\\n\\r\\n요즘들어 상수도 공사가 한창...</td>\n",
       "      <td>부산광역시</td>\n",
       "      <td>국민신문고 Web</td>\n",
       "      <td>부산광역시</td>\n",
       "      <td>부산광역시 건설본부 토목시설부 토목2팀</td>\n",
       "      <td>남자</td>\n",
       "      <td>31</td>\n",
       "      <td>2018-03-16 11:42:54</td>\n",
       "      <td>2018</td>\n",
       "      <td>일반</td>\n",
       "    </tr>\n",
       "    <tr>\n",
       "      <th>...</th>\n",
       "      <td>...</td>\n",
       "      <td>...</td>\n",
       "      <td>...</td>\n",
       "      <td>...</td>\n",
       "      <td>...</td>\n",
       "      <td>...</td>\n",
       "      <td>...</td>\n",
       "      <td>...</td>\n",
       "      <td>...</td>\n",
       "      <td>...</td>\n",
       "      <td>...</td>\n",
       "    </tr>\n",
       "    <tr>\n",
       "      <th>4115</th>\n",
       "      <td>동탄 2신도시 경부고속도로 지하화 구간 남단 &amp;#x28;800m&amp;#x29; 차량 진...</td>\n",
       "      <td>안녕하세요.\\r\\n귀 기관의 노고에 감사드립니다. \\r\\n​\\r\\n동탄 2신도시 경...</td>\n",
       "      <td>경기도</td>\n",
       "      <td>국민신문고 Web</td>\n",
       "      <td>국민권익위원회</td>\n",
       "      <td>국민권익위원회 사무처 고충처리국 교통도로민원과</td>\n",
       "      <td>남자</td>\n",
       "      <td>36</td>\n",
       "      <td>2021-03-30 09:06:04</td>\n",
       "      <td>2021</td>\n",
       "      <td>고충</td>\n",
       "    </tr>\n",
       "    <tr>\n",
       "      <th>4116</th>\n",
       "      <td>배곧분동 똑바로 하십시오</td>\n",
       "      <td>1. 배곧 분동 공정하게 계획대로 7월에 처리해 주십시오. 몇몇 단체들의 욕심으로 ...</td>\n",
       "      <td>경기도</td>\n",
       "      <td>국민신문고 APP</td>\n",
       "      <td>국민권익위원회</td>\n",
       "      <td>국민권익위원회 사무처 고충처리국 행정문화교육민원과</td>\n",
       "      <td>여자</td>\n",
       "      <td>39</td>\n",
       "      <td>2021-03-30 14:58:45</td>\n",
       "      <td>2021</td>\n",
       "      <td>고충</td>\n",
       "    </tr>\n",
       "    <tr>\n",
       "      <th>4117</th>\n",
       "      <td>동탄2 경부지하화 구간 진출입로 방음터널 요청건</td>\n",
       "      <td>경부고속도로 직선화 구간 남단 &amp;#x28;800M&amp;#x29; 방음터널 추가 설치를 ...</td>\n",
       "      <td>경기도</td>\n",
       "      <td>국민신문고 Web</td>\n",
       "      <td>국민권익위원회</td>\n",
       "      <td>국민권익위원회 사무처 고충처리국 교통도로민원과</td>\n",
       "      <td>남자</td>\n",
       "      <td>38</td>\n",
       "      <td>2021-03-30 11:02:42</td>\n",
       "      <td>2021</td>\n",
       "      <td>고충</td>\n",
       "    </tr>\n",
       "    <tr>\n",
       "      <th>4118</th>\n",
       "      <td>사회복무요원은 죄를 지은 사람인가요?</td>\n",
       "      <td>저는 출퇴근이 왕복3시간 소요되는 사회복무요원입니다 .\\r\\n이로 인해 2주전부터 ...</td>\n",
       "      <td>경상북도</td>\n",
       "      <td>국민신문고 APP</td>\n",
       "      <td>국민권익위원회</td>\n",
       "      <td>국민권익위원회 사무처 고충처리국 국방보훈민원과</td>\n",
       "      <td>남자</td>\n",
       "      <td>21</td>\n",
       "      <td>2021-03-29 17:58:52</td>\n",
       "      <td>2021</td>\n",
       "      <td>고충</td>\n",
       "    </tr>\n",
       "    <tr>\n",
       "      <th>4119</th>\n",
       "      <td>국민권익회 고충처리국 박철희 선생님&amp;#x29; 현재 민원 처리 중간상황 문의 및 형...</td>\n",
       "      <td>1. 안녕하십니까? 우선 국민권익의 관련한 행정에힘쓰시느라 노고가 많으십니다.\\r\\...</td>\n",
       "      <td>경기도</td>\n",
       "      <td>국민신문고 Web</td>\n",
       "      <td>국민권익위원회</td>\n",
       "      <td>국민권익위원회 사무처 고충처리국 국방보훈민원과</td>\n",
       "      <td>남자</td>\n",
       "      <td>33</td>\n",
       "      <td>2021-03-30 09:23:00</td>\n",
       "      <td>2021</td>\n",
       "      <td>고충</td>\n",
       "    </tr>\n",
       "  </tbody>\n",
       "</table>\n",
       "<p>2824205 rows × 11 columns</p>\n",
       "</div>"
      ],
      "text/plain": [
       "                                                     제목  \\\n",
       "0                              로스쿨 특별전형 입학자 생계급여공제 관련청원   \n",
       "1                                     아파트 단지내에 장애인 주차구역   \n",
       "2                  적법하지 못한 형태로 교습을 진행하고 있는 불법업체를 고발합니다.   \n",
       "3                                       제품명 영문 혼용 표시 문의   \n",
       "4                                 온천천 도로 공사 관련 민원 신청의 건   \n",
       "...                                                 ...   \n",
       "4115  동탄 2신도시 경부고속도로 지하화 구간 남단 &#x28;800m&#x29; 차량 진...   \n",
       "4116                                      배곧분동 똑바로 하십시오   \n",
       "4117                         동탄2 경부지하화 구간 진출입로 방음터널 요청건   \n",
       "4118                               사회복무요원은 죄를 지은 사람인가요?   \n",
       "4119  국민권익회 고충처리국 박철희 선생님&#x29; 현재 민원 처리 중간상황 문의 및 형...   \n",
       "\n",
       "                                                     본문  민원발생지  \\\n",
       "0     안녕하세요. 서울내 모대학교 법학전문대학원에 재학하고 있는 학생입니다. 법학전문대학...  서울특별시   \n",
       "1     단지 내 주차구역도 신고가 되나요?\\n\\n다들 주차공간부족하고 눈치봐가면서 주차하고...  광주광역시   \n",
       "2     [피민원인 정보] \\r\\n- 상호명 : 원주스파르타스터디센터독서실\\r\\n- 주소 :...    경기도   \n",
       "3     귀 처의 무궁한 발전을 기원합니다. \\r\\n\\r\\n문의드리고자 함은 아래와 같습니다...  서울특별시   \n",
       "4     안녕하세요 금정구에 거주중인 회사원입니다.\\r\\n\\r\\n요즘들어 상수도 공사가 한창...  부산광역시   \n",
       "...                                                 ...    ...   \n",
       "4115  안녕하세요.\\r\\n귀 기관의 노고에 감사드립니다. \\r\\n​\\r\\n동탄 2신도시 경...    경기도   \n",
       "4116  1. 배곧 분동 공정하게 계획대로 7월에 처리해 주십시오. 몇몇 단체들의 욕심으로 ...    경기도   \n",
       "4117  경부고속도로 직선화 구간 남단 &#x28;800M&#x29; 방음터널 추가 설치를 ...    경기도   \n",
       "4118  저는 출퇴근이 왕복3시간 소요되는 사회복무요원입니다 .\\r\\n이로 인해 2주전부터 ...   경상북도   \n",
       "4119  1. 안녕하십니까? 우선 국민권익의 관련한 행정에힘쓰시느라 노고가 많으십니다.\\r\\...    경기도   \n",
       "\n",
       "               민원신청경로      접수기관                         처리부서  성별  나이  \\\n",
       "0           국민신문고 Web     보건복지부    보건복지부 사회복지정책실 복지정책관 자립지원과  남자  36   \n",
       "1           국민신문고 APP  광주광역시 북구      광주광역시 북구 복지경제국 노인장애인복지과  여자  34   \n",
       "2           국민신문고 Web    강원도교육청        강원도교육청 강원도원주교육지원청 행정과  남자  38   \n",
       "3     국민신문고 기관프레임 Web  식품의약품안전처   식품의약품안전처 식품안전정책국 식품안전표시인증과  남자  36   \n",
       "4           국민신문고 Web     부산광역시        부산광역시 건설본부 토목시설부 토목2팀  남자  31   \n",
       "...               ...       ...                          ...  ..  ..   \n",
       "4115        국민신문고 Web   국민권익위원회    국민권익위원회 사무처 고충처리국 교통도로민원과  남자  36   \n",
       "4116        국민신문고 APP   국민권익위원회  국민권익위원회 사무처 고충처리국 행정문화교육민원과  여자  39   \n",
       "4117        국민신문고 Web   국민권익위원회    국민권익위원회 사무처 고충처리국 교통도로민원과  남자  38   \n",
       "4118        국민신문고 APP   국민권익위원회    국민권익위원회 사무처 고충처리국 국방보훈민원과  남자  21   \n",
       "4119        국민신문고 Web   국민권익위원회    국민권익위원회 사무처 고충처리국 국방보훈민원과  남자  33   \n",
       "\n",
       "                     접수일  year type  \n",
       "0    2018-03-16 11:06:25  2018   일반  \n",
       "1    2018-03-16 10:58:33  2018   일반  \n",
       "2    2018-03-16 11:19:26  2018   일반  \n",
       "3    2018-03-16 14:20:20  2018   일반  \n",
       "4    2018-03-16 11:42:54  2018   일반  \n",
       "...                  ...   ...  ...  \n",
       "4115 2021-03-30 09:06:04  2021   고충  \n",
       "4116 2021-03-30 14:58:45  2021   고충  \n",
       "4117 2021-03-30 11:02:42  2021   고충  \n",
       "4118 2021-03-29 17:58:52  2021   고충  \n",
       "4119 2021-03-30 09:23:00  2021   고충  \n",
       "\n",
       "[2824205 rows x 11 columns]"
      ]
     },
     "execution_count": 5,
     "metadata": {},
     "output_type": "execute_result"
    }
   ],
   "source": [
    "df"
   ]
  },
  {
   "cell_type": "code",
   "execution_count": 6,
   "metadata": {},
   "outputs": [],
   "source": [
    "from konlpy.tag import Okt"
   ]
  },
  {
   "cell_type": "code",
   "execution_count": 7,
   "metadata": {},
   "outputs": [],
   "source": [
    "okt = Okt()"
   ]
  },
  {
   "cell_type": "code",
   "execution_count": 7,
   "metadata": {},
   "outputs": [],
   "source": [
    "body = df['본문']\n",
    "\n",
    "tok = []\n",
    "for txt in body:\n",
    "    tok.append(okt.nouns(str(txt)))"
   ]
  },
  {
   "cell_type": "code",
   "execution_count": 8,
   "metadata": {},
   "outputs": [],
   "source": [
    "from gensim.models import FastText"
   ]
  },
  {
   "cell_type": "code",
   "execution_count": 9,
   "metadata": {},
   "outputs": [],
   "source": [
    "model = FastText(tok, window=6, min_count=5, workers=4, sg=1)"
   ]
  },
  {
   "cell_type": "code",
   "execution_count": 11,
   "metadata": {},
   "outputs": [
    {
     "data": {
      "text/plain": [
       "[('탈', 0.7018119692802429),\n",
       " ('폐쇄해', 0.656972348690033),\n",
       " ('페기', 0.606849193572998),\n",
       " ('울진원전', 0.6057741641998291),\n",
       " ('핵발전소', 0.6024643778800964),\n",
       " ('후쿠시마현', 0.5993140935897827),\n",
       " ('원자력발전소', 0.5984238982200623),\n",
       " ('지열발전소', 0.5980384945869446),\n",
       " ('원자력발전', 0.5967492461204529),\n",
       " ('탈핵', 0.5944671034812927),\n",
       " ('월성원자력발전소', 0.5889718532562256),\n",
       " ('고창군', 0.5883920788764954),\n",
       " ('전소', 0.5817407965660095),\n",
       " ('포화상태', 0.5782170295715332),\n",
       " ('한울원전', 0.5772468447685242)]"
      ]
     },
     "execution_count": 11,
     "metadata": {},
     "output_type": "execute_result"
    }
   ],
   "source": [
    "model.wv.most_similar(\"원전\", topn = 15)"
   ]
  },
  {
   "cell_type": "code",
   "execution_count": 12,
   "metadata": {},
   "outputs": [],
   "source": [
    "model.save('ft_nuclear')"
   ]
  },
  {
   "cell_type": "code",
   "execution_count": 30,
   "metadata": {},
   "outputs": [
    {
     "data": {
      "text/plain": [
       "[('한울', 0.7935118079185486),\n",
       " ('호기', 0.7884874939918518),\n",
       " ('한울원전', 0.7819142937660217),\n",
       " ('수명연장', 0.7697598934173584),\n",
       " ('한수', 0.7613365054130554),\n",
       " ('신고리', 0.7552295923233032),\n",
       " ('월성원자력발전소', 0.7374343276023865),\n",
       " ('한빛', 0.7365232110023499),\n",
       " ('한울원자력발전소', 0.7359129190444946),\n",
       " ('영광원전', 0.722649335861206)]"
      ]
     },
     "execution_count": 30,
     "metadata": {},
     "output_type": "execute_result"
    }
   ],
   "source": [
    "model.wv.most_similar(['한수원', '월성'])"
   ]
  },
  {
   "cell_type": "code",
   "execution_count": 57,
   "metadata": {},
   "outputs": [],
   "source": [
    "sent_vect_lst = []\n",
    "for i in range(len(tok)):\n",
    "    sent_vect = np.zeros(100)\n",
    "    for token in tok[i]:\n",
    "        sent_vect += model.wv[token]\n",
    "    sent_vect_lst.append(sent_vect)"
   ]
  },
  {
   "cell_type": "code",
   "execution_count": 77,
   "metadata": {},
   "outputs": [],
   "source": [
    "from sklearn.manifold import TSNE\n"
   ]
  },
  {
   "cell_type": "code",
   "execution_count": 78,
   "metadata": {},
   "outputs": [],
   "source": [
    "tsne_model = TSNE(2)"
   ]
  },
  {
   "cell_type": "code",
   "execution_count": 79,
   "metadata": {},
   "outputs": [],
   "source": [
    "tsne_vect = tsne_model.fit_transform(sent_vect_lst)"
   ]
  },
  {
   "cell_type": "code",
   "execution_count": 81,
   "metadata": {},
   "outputs": [],
   "source": [
    "import matplotlib.pyplot as plt"
   ]
  },
  {
   "cell_type": "code",
   "execution_count": 98,
   "metadata": {},
   "outputs": [
    {
     "data": {
      "text/html": [
       "<div>\n",
       "<style scoped>\n",
       "    .dataframe tbody tr th:only-of-type {\n",
       "        vertical-align: middle;\n",
       "    }\n",
       "\n",
       "    .dataframe tbody tr th {\n",
       "        vertical-align: top;\n",
       "    }\n",
       "\n",
       "    .dataframe thead th {\n",
       "        text-align: right;\n",
       "    }\n",
       "</style>\n",
       "<table border=\"1\" class=\"dataframe\">\n",
       "  <thead>\n",
       "    <tr style=\"text-align: right;\">\n",
       "      <th></th>\n",
       "      <th>0</th>\n",
       "      <th>1</th>\n",
       "    </tr>\n",
       "  </thead>\n",
       "  <tbody>\n",
       "    <tr>\n",
       "      <th>0</th>\n",
       "      <td>4.331076</td>\n",
       "      <td>10.581779</td>\n",
       "    </tr>\n",
       "    <tr>\n",
       "      <th>1</th>\n",
       "      <td>64.065369</td>\n",
       "      <td>2.260036</td>\n",
       "    </tr>\n",
       "    <tr>\n",
       "      <th>2</th>\n",
       "      <td>-5.662388</td>\n",
       "      <td>-72.349747</td>\n",
       "    </tr>\n",
       "    <tr>\n",
       "      <th>3</th>\n",
       "      <td>-12.862644</td>\n",
       "      <td>61.251534</td>\n",
       "    </tr>\n",
       "    <tr>\n",
       "      <th>4</th>\n",
       "      <td>49.323811</td>\n",
       "      <td>5.123296</td>\n",
       "    </tr>\n",
       "    <tr>\n",
       "      <th>...</th>\n",
       "      <td>...</td>\n",
       "      <td>...</td>\n",
       "    </tr>\n",
       "    <tr>\n",
       "      <th>9861</th>\n",
       "      <td>63.189529</td>\n",
       "      <td>-10.790092</td>\n",
       "    </tr>\n",
       "    <tr>\n",
       "      <th>9862</th>\n",
       "      <td>-18.239283</td>\n",
       "      <td>52.881893</td>\n",
       "    </tr>\n",
       "    <tr>\n",
       "      <th>9863</th>\n",
       "      <td>-40.959953</td>\n",
       "      <td>-15.133290</td>\n",
       "    </tr>\n",
       "    <tr>\n",
       "      <th>9864</th>\n",
       "      <td>-51.793404</td>\n",
       "      <td>-9.601971</td>\n",
       "    </tr>\n",
       "    <tr>\n",
       "      <th>9865</th>\n",
       "      <td>-13.464972</td>\n",
       "      <td>6.479939</td>\n",
       "    </tr>\n",
       "  </tbody>\n",
       "</table>\n",
       "<p>9866 rows × 2 columns</p>\n",
       "</div>"
      ],
      "text/plain": [
       "              0          1\n",
       "0      4.331076  10.581779\n",
       "1     64.065369   2.260036\n",
       "2     -5.662388 -72.349747\n",
       "3    -12.862644  61.251534\n",
       "4     49.323811   5.123296\n",
       "...         ...        ...\n",
       "9861  63.189529 -10.790092\n",
       "9862 -18.239283  52.881893\n",
       "9863 -40.959953 -15.133290\n",
       "9864 -51.793404  -9.601971\n",
       "9865 -13.464972   6.479939\n",
       "\n",
       "[9866 rows x 2 columns]"
      ]
     },
     "execution_count": 98,
     "metadata": {},
     "output_type": "execute_result"
    }
   ],
   "source": [
    "tsne_df = pd.DataFrame(tsne_vect)\n",
    "tsne_df"
   ]
  },
  {
   "cell_type": "code",
   "execution_count": 108,
   "metadata": {},
   "outputs": [
    {
     "data": {
      "text/plain": [
       "<matplotlib.collections.PathCollection at 0x2e5a90ee0>"
      ]
     },
     "execution_count": 108,
     "metadata": {},
     "output_type": "execute_result"
    },
    {
     "data": {
      "image/png": "[encoded data removed]",
      "text/plain": [
       "<Figure size 432x288 with 1 Axes>"
      ]
     },
     "metadata": {
      "needs_background": "light"
     },
     "output_type": "display_data"
    }
   ],
   "source": [
    "plt.scatter(tsne_df[0], tsne_df[1], s = 0.5)"
   ]
  },
  {
   "cell_type": "code",
   "execution_count": 67,
   "metadata": {},
   "outputs": [],
   "source": [
    "from sklearn.metrics.pairwise import cosine_similarity"
   ]
  },
  {
   "cell_type": "code",
   "execution_count": 70,
   "metadata": {},
   "outputs": [],
   "source": [
    "def similarity_matrix(sentence_embedding):\n",
    "    sim_mat = np.zeros([len(sentence_embedding), len(sentence_embedding)])\n",
    "    for i in range(len(sentence_embedding)):\n",
    "        for j in range(len(sentence_embedding)):\n",
    "            sim_mat[i][j] = cosine_similarity(sentence_embedding[i].reshape(1, 100),\n",
    "                                              sentence_embedding[j].reshape(1, 100))[0,0]\n",
    "    return sim_mat"
   ]
  },
  {
   "cell_type": "code",
   "execution_count": null,
   "metadata": {},
   "outputs": [],
   "source": [
    "def similarity_matrix2(sentence_embedding):\n",
    "    sim_mat = np.zeros([len(sentence_embedding), len(sentence_embedding)])\n",
    "    for i in range(len(sentence_embedding)):\n",
    "        for j in range(i, len(sentence_embedding)):\n",
    "            if i > j: \n",
    "                sim_mat[i][j] = cosine_similarity(sentence_embedding[i].reshape(1, 100),\n",
    "                                                sentence_embedding[j].reshape(1, 100))[0,0]\n",
    "            elif i == j:\n",
    "                sim_mat[i][j] = 1\n",
    "            else:\n",
    "                sim_mat[j][i] = sim_mat[i][j] \n",
    "    return sim_mat"
   ]
  },
  {
   "cell_type": "code",
   "execution_count": 72,
   "metadata": {},
   "outputs": [],
   "source": [
    "sim_temp = similarity_matrix(sent_vect_lst)"
   ]
  },
  {
   "cell_type": "code",
   "execution_count": 161,
   "metadata": {},
   "outputs": [],
   "source": [
    "sim_df = pd.DataFrame(sim_temp)\n",
    "sim_idx = []\n",
    "for i in range(len(sim_df)):\n",
    "    sim_idx.append(sim_df[i].sort_values(ascending=False)[1:4].index)"
   ]
  },
  {
   "cell_type": "code",
   "execution_count": 172,
   "metadata": {},
   "outputs": [],
   "source": [
    "import sys\n",
    "f = open('nuclear_ft_doc_sim.txt', 'w')\n",
    "\n",
    "for i in range(len(sim_idx)):\n",
    "    print(\"원문 ::::\", df.iloc[i].본문, file = f)\n",
    "    for j in sim_idx[i]:   \n",
    "        print('----------------------------------', file = f)\n",
    "        print(\"유사 문서 :::\",  df.iloc[j].본문, file = f)\n",
    "    print(\"======================================\", file = f)\n",
    "    \n",
    "f.close()"
   ]
  }
 ],
 "metadata": {
  "interpreter": {
   "hash": "380d541477e846e8dcf534c29948243e6a1bd41e9736ef21a29423dedb925f62"
  },
  "kernelspec": {
   "display_name": "Python 3.9.7 64-bit ('base': conda)",
   "language": "python",
   "name": "python3"
  },
  "language_info": {
   "codemirror_mode": {
    "name": "ipython",
    "version": 3
   },
   "file_extension": ".py",
   "mimetype": "text/x-python",
   "name": "python",
   "nbconvert_exporter": "python",
   "pygments_lexer": "ipython3",
   "version": "3.8.5"
  },
  "orig_nbformat": 4
 },
 "nbformat": 4,
 "nbformat_minor": 2
}
