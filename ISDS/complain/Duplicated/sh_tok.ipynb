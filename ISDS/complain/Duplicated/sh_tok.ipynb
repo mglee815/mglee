{
 "cells": [
  {
   "cell_type": "code",
   "execution_count": 1,
   "metadata": {},
   "outputs": [],
   "source": [
    "import pandas as pd\n",
    "import numpy as np\n",
    "import matplotlib.pyplot as plt\n",
    "import os"
   ]
  },
  {
   "cell_type": "code",
   "execution_count": 2,
   "metadata": {},
   "outputs": [],
   "source": [
    "\n",
    "df1 = pd.read_csv('/home/mglee/VSCODE/Duplicated/sample5data/sample_df1.csv', encoding='utf-8', error_bad_lines=False)\n",
    "df2 = pd.read_csv('/home/mglee/VSCODE/Duplicated/sample5data/sample_df2.csv', encoding='utf-8', error_bad_lines=False)\n",
    "df3 = pd.read_csv('/home/mglee/VSCODE/Duplicated/sample5data/sample_df3.csv', encoding='utf-8', error_bad_lines=False)\n",
    "df4 = pd.read_csv('/home/mglee/VSCODE/Duplicated/sample5data/sample_df4.csv', encoding='utf-8', error_bad_lines=False)"
   ]
  },
  {
   "cell_type": "code",
   "execution_count": 3,
   "metadata": {},
   "outputs": [],
   "source": [
    "df = pd.concat([df1, df2, df3, df4], axis = 0, ignore_index=True)"
   ]
  },
  {
   "cell_type": "code",
   "execution_count": 4,
   "metadata": {
    "scrolled": true
   },
   "outputs": [],
   "source": [
    "df = df[df['본문'].notna()]\n",
    "df = df.reset_index()\n",
    "#df"
   ]
  },
  {
   "cell_type": "code",
   "execution_count": 5,
   "metadata": {},
   "outputs": [],
   "source": [
    "#pre processing\n",
    "import re\n",
    "import math\n",
    "\n",
    "def cleansing_rp(text):\n",
    "\n",
    "    repl = ' '\n",
    "    pattern = '([a-zA-Z0-9_.+-]+@[a-zA-Z0-9-]+\\.[a-zA-Z0-9-.]+)' # 이메일 제거\n",
    "    text = re.sub(pattern= pattern, repl=repl, string=text)\n",
    "    pattern = '([ㄱ-ㅎㅏ-ㅣ]+)' # 자음, 모음 제거\n",
    "    text = re.sub(pattern= pattern, repl=repl, string=text)\n",
    "    pattern = '[^\\w\\s]' # 특수기호 제거\n",
    "    text = re.sub(pattern= pattern, repl=repl, string=text)\n",
    "    pattern = '<[^>]*>' # html 제거\n",
    "    text = re.sub(pattern = pattern, repl=' ',string=text)\n",
    "    pattern = '[0-9]'\n",
    "    text = re.sub(pattern = pattern, repl=' ',string=text)\n",
    "    pattern = '[a-zA-Z]'\n",
    "    text = re.sub(pattern = pattern, repl=' ',string=text)\n",
    "    pattern = '[一-龥]'\n",
    "    text = re.sub(pattern= pattern, repl=repl, string=text)\n",
    "    pattern = '[0-9]{4}년'\n",
    "    text = re.sub(pattern= pattern, repl=repl, string=text)\n",
    "    pattern = '[0-9]월'\n",
    "    text = re.sub(pattern= pattern, repl=repl, string=text)\n",
    "    pattern = '[0-9]일'\n",
    "    text = re.sub(pattern= pattern, repl=repl, string=text)\n",
    "    text = text.replace(\"\\n\" , \"\").replace(\"\\r\", \"\")\n",
    "\n",
    "    return text\n"
   ]
  },
  {
   "cell_type": "code",
   "execution_count": 6,
   "id": "5ca7c5d9",
   "metadata": {},
   "outputs": [],
   "source": [
    "from konlpy.tag import Komoran\n",
    "import numpy as np\n",
    "from tqdm import tqdm\n",
    "import time\n",
    "\n",
    "komo = Komoran()"
   ]
  },
  {
   "cell_type": "code",
   "execution_count": 11,
   "metadata": {
    "jupyter": {
     "outputs_hidden": true
    },
    "scrolled": true,
    "tags": []
   },
   "outputs": [
    {
     "name": "stderr",
     "output_type": "stream",
     "text": [
      "  1%|          | 21212/1704495 [05:40<7:46:54, 60.09it/s] "
     ]
    }
   ],
   "source": [
    "lst = []\n",
    "for x in tqdm(df['본문']):\n",
    "    if len(x) < 3000:\n",
    "        x = cleansing_rp(x)\n",
    "        if x:\n",
    "            try:\n",
    "                tok = komo.nouns(x)\n",
    "            except:\n",
    "                tok = [\"NA\"]\n",
    "        else:\n",
    "            tok = [\"NA\"]\n",
    "    else:\n",
    "        tok = ['TOO', \"LOOG\", \"TXT\"]\n",
    "    lst.append(tok)"
   ]
  },
  {
   "cell_type": "code",
   "execution_count": null,
   "id": "2075b2d0",
   "metadata": {},
   "outputs": [],
   "source": [
    "df['tok'] = lst"
   ]
  },
  {
   "cell_type": "code",
   "execution_count": null,
   "metadata": {},
   "outputs": [],
   "source": [
    "df.to_csv('sample_tokenized.csv', encoding='utf-8-sig', index=False)"
   ]
  }
 ],
 "metadata": {
  "kernelspec": {
   "display_name": "Python 3",
   "language": "python",
   "name": "python3"
  },
  "language_info": {
   "codemirror_mode": {
    "name": "ipython",
    "version": 3
   },
   "file_extension": ".py",
   "mimetype": "text/x-python",
   "name": "python",
   "nbconvert_exporter": "python",
   "pygments_lexer": "ipython3",
   "version": "3.8.5"
  }
 },
 "nbformat": 4,
 "nbformat_minor": 5
}
