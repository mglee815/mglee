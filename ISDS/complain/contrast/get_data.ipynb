{
 "cells": [
  {
   "cell_type": "code",
   "execution_count": 10,
   "metadata": {},
   "outputs": [],
   "source": [
    "from petitions_dataset import fetch"
   ]
  },
  {
   "cell_type": "code",
   "execution_count": 11,
   "metadata": {},
   "outputs": [
    {
     "name": "stdout",
     "output_type": "stream",
     "text": [
      "Insert yes or no\n",
      "Stop downloading\n"
     ]
    }
   ],
   "source": [
    "data_dir = '/home/mglee/VSCODE/contrast'\n",
    "fetch(data_dir)"
   ]
  },
  {
   "cell_type": "code",
   "execution_count": 14,
   "metadata": {},
   "outputs": [],
   "source": [
    "from petitions_dataset import Petitions"
   ]
  },
  {
   "cell_type": "code",
   "execution_count": 15,
   "metadata": {},
   "outputs": [],
   "source": [
    "petitions = Petitions(data_dir)"
   ]
  },
  {
   "cell_type": "code",
   "execution_count": 39,
   "metadata": {},
   "outputs": [],
   "source": [
    "import pandas as pd\n",
    "petitions.set_keys('begin', 'title', 'content', 'num_agree')\n",
    "\n",
    "date_lst = []\n",
    "title_lst = []\n",
    "content_lst = []\n",
    "num_agree_lst = []\n",
    "\n",
    "for begin, title, content, num_agree in petitions:\n",
    "    date_lst.append(begin)\n",
    "    title_lst.append(title)\n",
    "    content_lst.append(content)\n",
    "    num_agree_lst.append(str(num_agree))\n",
    "\n",
    "df = pd.DataFrame([date_lst, title_lst, content_lst, num_agree_lst])\n",
    "df = df.T\n",
    "df.columns = ['date', 'title', 'body', 'agree']"
   ]
  },
  {
   "cell_type": "code",
   "execution_count": null,
   "metadata": {},
   "outputs": [],
   "source": [
    "df.to_pickle('/home/mglee/VSCODE/contrast/petitions.pkl')"
   ]
  }
 ],
 "metadata": {
  "interpreter": {
   "hash": "c6f34507fa43ba317958b721fa8398d2051b96ef3f3b32ff98429c26ce06f8cf"
  },
  "kernelspec": {
   "display_name": "Python 3.8.5 64-bit ('svmglee': conda)",
   "language": "python",
   "name": "python3"
  },
  "language_info": {
   "codemirror_mode": {
    "name": "ipython",
    "version": 3
   },
   "file_extension": ".py",
   "mimetype": "text/x-python",
   "name": "python",
   "nbconvert_exporter": "python",
   "pygments_lexer": "ipython3",
   "version": "3.8.5"
  },
  "orig_nbformat": 4
 },
 "nbformat": 4,
 "nbformat_minor": 2
}
