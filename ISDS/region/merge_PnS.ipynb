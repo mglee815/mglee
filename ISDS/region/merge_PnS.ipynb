{
 "cells": [
  {
   "cell_type": "code",
   "execution_count": 3,
   "metadata": {},
   "outputs": [],
   "source": [
    "import pandas as pd"
   ]
  },
  {
   "cell_type": "code",
   "execution_count": 4,
   "metadata": {},
   "outputs": [],
   "source": [
    "def Get_order(path):\n",
    "    df = pd.read_excel(path)\n",
    "    df = df[['광역', '기초']]\n",
    "    df.columns = ['광역', '자치']\n",
    "    return df"
   ]
  },
  {
   "cell_type": "code",
   "execution_count": 11,
   "metadata": {},
   "outputs": [
    {
     "name": "stdout",
     "output_type": "stream",
     "text": [
      "    광역    자치     type   보건_영역평균   복지_영역평균   교육_영역평균   문화_영역평균  순위:보건  순위:복지  \\\n",
      "0   경기   용인시  50만이상 시  6.488764  5.732707  6.624971  5.532243      1     13   \n",
      "1   경기   안양시  50만이상 시  6.065266  5.919281  6.561383  6.000748      8      8   \n",
      "2   경기   고양시  50만이상 시  6.215862  5.507641  6.389318  5.310244      5     15   \n",
      "3   경기  남양주시  50만이상 시  5.892672  5.879313  6.405710  5.553108     10     10   \n",
      "4   경기   수원시  50만이상 시  6.410865  5.762005  6.610396  5.311182      3     12   \n",
      "5   경기   화성시  50만이상 시  6.323526  5.928065  6.741887  5.612736      4      6   \n",
      "6   경남   창원시  50만이상 시  6.140450  6.073081  6.581196  5.471576      7      3   \n",
      "7   경기   성남시  50만이상 시  6.441809  5.402247  6.369857  5.230124      2     16   \n",
      "8   경기   부천시  50만이상 시  5.828597  5.592782  6.525755  5.426512     11     14   \n",
      "9   전북   전주시  50만이상 시  5.776548  5.808400  6.569224  5.550474     13     11   \n",
      "10  충북   청주시  50만이상 시  5.992735  5.952693  6.197745  5.389006      9      5   \n",
      "11  경북   포항시  50만이상 시  6.200955  6.016001  6.460240  5.436790      6      4   \n",
      "12  경남   김해시  50만이상 시  5.820870  6.169453  5.964407  6.420005     12      1   \n",
      "13  충남   천안시  50만이상 시  5.737059  6.145020  6.766782  5.459398     14      2   \n",
      "14  경기   안산시  50만이상 시  5.056777  5.896799  6.471684  5.655709     16      9   \n",
      "15  경기   평택시  50만이상 시  5.725181  5.919778  6.437167  5.194532     15      7   \n",
      "\n",
      "    순위:교육  ...  교육2 표준화값  교육3 표준화값  교육4 표준화값  교육5 표준화값  문화1 표준화값  문화2 표준화값  \\\n",
      "0       3  ...  5.855148  7.074489  7.487062       NaN       NaN       NaN   \n",
      "1       7  ...  5.902458  7.169450  7.149204       NaN       NaN       NaN   \n",
      "2      13  ...  5.928385  6.317175  7.102279       NaN       NaN       NaN   \n",
      "3      12  ...  5.881071  6.575944  7.236015       NaN       NaN       NaN   \n",
      "4       4  ...  5.805156  6.566448  7.217245       NaN       NaN       NaN   \n",
      "5       2  ...  5.993975  7.015139  7.348635       NaN       NaN       NaN   \n",
      "6       5  ...  5.820894  6.787232  6.602531       NaN       NaN       NaN   \n",
      "7      14  ...  5.909819  6.782484  7.146858       NaN       NaN       NaN   \n",
      "8       8  ...  5.752171  6.753996  6.956813       NaN       NaN       NaN   \n",
      "9       6  ...  5.876790  6.879819  6.961505       NaN       NaN       NaN   \n",
      "10     15  ...  5.916743  6.775362  6.825424       NaN       NaN       NaN   \n",
      "11     10  ...  5.909813  6.134376  6.602531       NaN       NaN       NaN   \n",
      "12     16  ...  5.789341  5.393680  5.870505       NaN       NaN       NaN   \n",
      "13      1  ...  5.908981  7.461455  7.240707       NaN       NaN       NaN   \n",
      "14      9  ...  5.911433  6.818094  6.952120       NaN       NaN       NaN   \n",
      "15     11  ...  5.998723  6.618677  7.123395       NaN       NaN       NaN   \n",
      "\n",
      "    문화3 표준화값  문화4 표준화값  문화5 표준화값  문화6 표준화값  \n",
      "0   5.307654       NaN       NaN  5.756831  \n",
      "1   5.163680       NaN       NaN  6.837815  \n",
      "2   5.215099       NaN       NaN  5.405388  \n",
      "3   5.266519       NaN       NaN  5.839698  \n",
      "4   5.245951       NaN       NaN  5.376413  \n",
      "5   5.225383       NaN       NaN  6.000088  \n",
      "6   5.441344       NaN       NaN  5.501808  \n",
      "7   5.153397       NaN       NaN  5.306851  \n",
      "8   5.256235       NaN       NaN  5.596789  \n",
      "9   5.492763       NaN       NaN  5.608186  \n",
      "10  5.389925       NaN       NaN  5.388087  \n",
      "11  5.297370       NaN       NaN  5.576210  \n",
      "12  6.243482       NaN       NaN  6.596527  \n",
      "13  5.317938       NaN       NaN  5.600859  \n",
      "14  5.317938       NaN       NaN  5.993480  \n",
      "15  5.194532       NaN       NaN       NaN  \n",
      "\n",
      "[16 rows x 59 columns]\n"
     ]
    }
   ],
   "source": [
    "order_path = \"/home/mglee/VSCODE/DATAs/ISDS 한국일보/order_key/(수정)(안전영역)기초_50만명이상시_순위.xlsx\"\n",
    "data_path = \"/home/mglee/VSCODE/DATAs/ISDS 한국일보/SNU/SNU_인구50이상시.xlsx\"\n",
    "order = Get_order(order_path)\n",
    "df = pd.read_excel(data_path)\n",
    "ordered_df = pd.merge(\n",
    "    order, df, how = 'left' \n",
    ")\n",
    "print(ordered_df)\n",
    "ordered_df.to_excel(\"/home/mglee/VSCODE/DATAs/ISDS 한국일보/ordered/SNU_인구50만이상시(정렬).xlsx\")"
   ]
  }
 ],
 "metadata": {
  "interpreter": {
   "hash": "c6f34507fa43ba317958b721fa8398d2051b96ef3f3b32ff98429c26ce06f8cf"
  },
  "kernelspec": {
   "display_name": "Python 3.8.5 64-bit ('svmglee': conda)",
   "language": "python",
   "name": "python3"
  },
  "language_info": {
   "codemirror_mode": {
    "name": "ipython",
    "version": 3
   },
   "file_extension": ".py",
   "mimetype": "text/x-python",
   "name": "python",
   "nbconvert_exporter": "python",
   "pygments_lexer": "ipython3",
   "version": "3.8.5"
  },
  "orig_nbformat": 4
 },
 "nbformat": 4,
 "nbformat_minor": 2
}
