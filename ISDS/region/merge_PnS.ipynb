{
 "cells": [
  {
   "cell_type": "code",
   "execution_count": 1,
   "metadata": {},
   "outputs": [],
   "source": [
    "import pandas as pd"
   ]
  },
  {
   "cell_type": "code",
   "execution_count": 6,
   "metadata": {},
   "outputs": [],
   "source": [
    "def Get_order(path):\n",
    "    df = pd.read_excel(path)\n",
    "    df = df[['광역', '자치']]\n",
    "    return df"
   ]
  },
  {
   "cell_type": "code",
   "execution_count": 24,
   "metadata": {},
   "outputs": [],
   "source": [
    "order_path = \"/home/mglee/VSCODE/DATAs/SNU/SNU_자치구.xlsx\"\n",
    "data_path = \"/home/mglee/VSCODE/DATAs/postech/재정통합_자치구.xlsx\"\n",
    "order = Get_order(order_path)\n",
    "df = pd.read_excel(data_path)\n",
    "\n",
    "ordered_df = pd.merge(\n",
    "    order, df, how = 'left' \n",
    ")\n",
    "ordered_df.to_excel(\"/home/mglee/VSCODE/DATAs/ordered/재정정렬_자치구.xlsx\")"
   ]
  }
 ],
 "metadata": {
  "interpreter": {
   "hash": "c6f34507fa43ba317958b721fa8398d2051b96ef3f3b32ff98429c26ce06f8cf"
  },
  "kernelspec": {
   "display_name": "Python 3.8.5 64-bit ('svmglee': conda)",
   "language": "python",
   "name": "python3"
  },
  "language_info": {
   "codemirror_mode": {
    "name": "ipython",
    "version": 3
   },
   "file_extension": ".py",
   "mimetype": "text/x-python",
   "name": "python",
   "nbconvert_exporter": "python",
   "pygments_lexer": "ipython3",
   "version": "3.8.5"
  },
  "orig_nbformat": 4
 },
 "nbformat": 4,
 "nbformat_minor": 2
}
