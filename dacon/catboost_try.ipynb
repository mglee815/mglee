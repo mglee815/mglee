{
 "cells": [
  {
   "cell_type": "code",
   "execution_count": 1,
   "metadata": {},
   "outputs": [],
   "source": [
    "import os\n",
    "import sys\n",
    "import platform\n",
    "import random\n",
    "import math\n",
    "from typing import List, Dict, Tuple\n",
    "\n",
    "import pandas as pd\n",
    "import numpy as np\n",
    "\n",
    "import sklearn\n",
    "from sklearn.model_selection import StratifiedKFold, KFold\n",
    "from sklearn.metrics import f1_score\n",
    "\n",
    "from catboost import Pool, CatBoostClassifier"
   ]
  },
  {
   "cell_type": "code",
   "execution_count": 2,
   "metadata": {},
   "outputs": [
    {
     "name": "stdout",
     "output_type": "stream",
     "text": [
      "- os: Linux-5.4.0-91-generic-x86_64-with-glibc2.10\n",
      "- python: 3.8.5 (default, Sep  4 2020, 07:30:14) \n",
      "[GCC 7.3.0]\n",
      "- pandas: 1.1.3\n",
      "- numpy: 1.19.2\n",
      "- sklearn: 0.23.2\n"
     ]
    }
   ],
   "source": [
    "print(f\"- os: {platform.platform()}\")\n",
    "print(f\"- python: {sys.version}\")\n",
    "print(f\"- pandas: {pd.__version__}\")\n",
    "print(f\"- numpy: {np.__version__}\")\n",
    "print(f\"- sklearn: {sklearn.__version__}\")"
   ]
  },
  {
   "cell_type": "code",
   "execution_count": 3,
   "metadata": {},
   "outputs": [
    {
     "name": "stdout",
     "output_type": "stream",
     "text": [
      "(501951, 35) (46404, 34)\n"
     ]
    }
   ],
   "source": [
    "train_df = pd.read_csv(\"/home/mglee/VSCODE/Dacon/Jobcare_data/train.csv\")\n",
    "test_df = pd.read_csv(\"/home/mglee/VSCODE/Dacon/Jobcare_data/test.csv\")\n",
    "\n",
    "code_d = pd.read_csv(\"/home/mglee/VSCODE/Dacon/Jobcare_data/속성_D_코드.csv\")\n",
    "code_h = pd.read_csv(\"/home/mglee/VSCODE/Dacon/Jobcare_data/속성_H_코드.csv\").iloc[:,:-1]\n",
    "code_l = pd.read_csv(\"/home/mglee/VSCODE/Dacon/Jobcare_data/속성_L_코드.csv\")\n",
    "\n",
    "print(train_df.shape, test_df.shape)"
   ]
  },
  {
   "cell_type": "code",
   "execution_count": 4,
   "metadata": {},
   "outputs": [],
   "source": [
    "code_d.columns= [\"attribute_d\",\"attribute_d_d\",\"attribute_d_s\",\"attribute_d_m\",\"attribute_d_l\"]\n",
    "code_h.columns= [\"attribute_h\", \"attribute_h_p\"]\n",
    "code_l.columns= [\"attribute_l\",\"attribute_l_d\",\"attribute_l_s\",\"attribute_l_m\",\"attribute_l_l\"]"
   ]
  },
  {
   "cell_type": "code",
   "execution_count": 6,
   "metadata": {},
   "outputs": [],
   "source": [
    "def Merge_codes(df:pd.DataFrame, df_code:pd.DataFrame, col:str) -> pd.DataFrame:\n",
    "    df = df.copy()\n",
    "    df_code = df_code.copy()\n",
    "    df_code = df_code.add_prefix(f\"{col}_\")\n",
    "    df_code.columns.values[0] = col\n",
    "    return pd.merge(df, df_code, how = 'left', on = col)"
   ]
  },
  {
   "cell_type": "markdown",
   "metadata": {},
   "source": [
    "### Feature_engineering과 Feature_enginerring2가 핵심적인 변화\n",
    "\n",
    "1. Feature_engineering 함수를 활성화 할 경우\n",
    "contents_rn이라는 변수를 제외하는 기존 모델과 다르게 변수로 사용함\n",
    "다만 그대로 사용하지 않고\n",
    "contents_rn을 몇번씩 등장했는지 카운팅해서 그 값을 변수로 사용\n",
    "\n",
    "2. Feature_engineering2 함수를 활성화 할 경우\n",
    "contents_rn과 같은 방식으로 person_rn변수를 전처리함\n",
    "기존 모델은 person_rn 변수를 통으로 사용했음\n"
   ]
  },
  {
   "cell_type": "code",
   "execution_count": 89,
   "metadata": {},
   "outputs": [],
   "source": [
    "#content_rn이라는 변수도 사용하되, 그대로 사용하는 것이 아니라 출현 빈도로 값을 재할당\n",
    "\n",
    "def Feature_engineering(df):\n",
    "    content_freq = df.groupby('contents_rn').count()['id']\n",
    "    df = pd.merge(df, content_freq, how = 'left', on = 'contents_rn')\n",
    "    # df.id_y = np.where(\n",
    "    #     df['id_y'] == 1, 1,\n",
    "    #     np.where(df['id_y'] < 5, 5,\n",
    "    #     np.where(df['id_y'] < 10, 10, 'over10')))\n",
    "    return df"
   ]
  },
  {
   "cell_type": "code",
   "execution_count": 7,
   "metadata": {},
   "outputs": [],
   "source": [
    "## person_rn도 count해서 사용 (overfitting 방지)\n",
    "\n",
    "def Feature_engineering2(df):\n",
    "    content_freq = df.groupby('contents_rn').count()['id']\n",
    "    df_temp = pd.merge(df, content_freq, how = 'left', on = 'contents_rn')\n",
    "    user_freq = df.groupby('person_rn').count()['id']\n",
    "    df = pd.merge(df_temp, user_freq, how = 'left', on = 'person_rn')\n",
    "    return df"
   ]
  },
  {
   "cell_type": "code",
   "execution_count": 9,
   "metadata": {},
   "outputs": [],
   "source": [
    "def Preprocess_data(\n",
    "    df:pd.DataFrame, is_train:bool = True, cols_merge:List[Tuple[str, pd.DataFrame]] = [], cols_equi:List[Tuple[str, str]] = [],\n",
    "    cols_drop:List[str] = ['id_x', 'person_prefer_f', 'person_perfer_g', 'contents_open_dt']) -> Tuple[pd.DataFrame, np.ndarray]:\n",
    "\n",
    "    df = df.copy()\n",
    "\n",
    "    #기존과의 차이점\n",
    "\n",
    "    ########################################\n",
    "    #####어떤 방식으로 모델을 학습시킬지는 여기서 결정\n",
    "    df = Feature_engineering2(df)#########\n",
    "    ######################################\n",
    "    y_data = None\n",
    "    if is_train:\n",
    "        y_data = df['target'].to_numpy()\n",
    "        df = df.drop(columns='target')\n",
    "\n",
    "    for col, df_code in cols_merge:\n",
    "        df = Merge_codes(df, df_code, col)\n",
    "    \n",
    "    cols = df.select_dtypes(bool).columns.tolist()\n",
    "    df[cols] = df[cols].astype(int)\n",
    "\n",
    "    for col1, col2 in cols_equi:\n",
    "        df[f\"{col1}_{col2}\"] = (df[col1] == df[col2]).astype(int)\n",
    "    df = df.drop(columns= cols_drop)\n",
    "    \n",
    "    \n",
    "    return (df, y_data)"
   ]
  },
  {
   "cell_type": "code",
   "execution_count": 10,
   "metadata": {},
   "outputs": [],
   "source": [
    "cols_merge = [\n",
    "              (\"person_prefer_d_1\" , code_d),\n",
    "              (\"person_prefer_d_2\" , code_d),\n",
    "              (\"person_prefer_d_3\" , code_d),\n",
    "              (\"contents_attribute_d\" , code_d),\n",
    "              (\"person_prefer_h_1\" , code_h),\n",
    "              (\"person_prefer_h_2\" , code_h),\n",
    "              (\"person_prefer_h_3\" , code_h),\n",
    "              (\"contents_attribute_h\" , code_h),\n",
    "              (\"contents_attribute_l\" , code_l),\n",
    "]\n",
    "\n",
    "# 회원 속성과 콘텐츠 속성의 동일한 코드 여부에 대한 컬럼명 리스트\n",
    "cols_equi = [\n",
    "\n",
    "    (\"contents_attribute_c\",\"person_prefer_c\"),\n",
    "    (\"contents_attribute_e\",\"person_prefer_e\"),\n",
    "\n",
    "    (\"person_prefer_d_2_attribute_d_s\" , \"contents_attribute_d_attribute_d_s\"),\n",
    "    (\"person_prefer_d_2_attribute_d_m\" , \"contents_attribute_d_attribute_d_m\"),\n",
    "    (\"person_prefer_d_2_attribute_d_l\" , \"contents_attribute_d_attribute_d_l\"),\n",
    "    (\"person_prefer_d_3_attribute_d_s\" , \"contents_attribute_d_attribute_d_s\"),\n",
    "    (\"person_prefer_d_3_attribute_d_m\" , \"contents_attribute_d_attribute_d_m\"),\n",
    "    (\"person_prefer_d_3_attribute_d_l\" , \"contents_attribute_d_attribute_d_l\"),\n",
    "\n",
    "    (\"person_prefer_h_1_attribute_h_p\" , \"contents_attribute_h_attribute_h_p\"),\n",
    "    (\"person_prefer_h_2_attribute_h_p\" , \"contents_attribute_h_attribute_h_p\"),\n",
    "    (\"person_prefer_h_3_attribute_h_p\" , \"contents_attribute_h_attribute_h_p\"),\n",
    "\n",
    "]\n",
    "#########################################################################################################\n",
    "#######################앞에서 선택한 모델 학습법에 따라서 3개의 line중 적합한 것을 주석 해제하여 사용####################\n",
    "########################################################################################################\n",
    "\n",
    "# 학습에 필요없는 컬럼 리스트\n",
    "#cols_drop = [\"id_x\",\"person_prefer_f\",\"person_prefer_g\" ,\"contents_open_dt\", \"contents_rn\"] #FE 사용할 경우\n",
    "#cols_drop = [\"id\",\"person_prefer_f\",\"person_prefer_g\" ,\"contents_open_dt\"] #content_rn을 통으로 넣을 경우\n",
    "cols_drop = [\"id_x\",\"person_prefer_f\",\"person_prefer_g\" ,\"contents_open_dt\", \"person_rn\", \"contents_rn\"] #FE2를 사용할 경우"
   ]
  },
  {
   "cell_type": "code",
   "execution_count": 11,
   "metadata": {},
   "outputs": [
    {
     "data": {
      "text/plain": [
       "((501951, 65), (501951,), (46404, 65))"
      ]
     },
     "execution_count": 11,
     "metadata": {},
     "output_type": "execute_result"
    }
   ],
   "source": [
    "x_train, y_train = Preprocess_data(train_df, cols_merge = cols_merge , cols_equi= cols_equi , cols_drop = cols_drop)\n",
    "x_test, _ = Preprocess_data(test_df,is_train = False, cols_merge = cols_merge , cols_equi= cols_equi  , cols_drop = cols_drop)\n",
    "x_train.shape , y_train.shape , x_test.shape"
   ]
  },
  {
   "cell_type": "code",
   "execution_count": 12,
   "metadata": {},
   "outputs": [],
   "source": [
    "cat_features = x_train.columns[x_train.nunique() > 2].tolist()"
   ]
  },
  {
   "cell_type": "code",
   "execution_count": 15,
   "metadata": {},
   "outputs": [],
   "source": [
    "is_holdout = False\n",
    "n_splits = 5\n",
    "iterations = 3000\n",
    "patience = 100\n",
    "SEED = 42\n",
    "\n",
    "cv = KFold(n_splits = n_splits, shuffle = True, random_state=SEED)"
   ]
  },
  {
   "cell_type": "code",
   "execution_count": 16,
   "metadata": {},
   "outputs": [
    {
     "name": "stdout",
     "output_type": "stream",
     "text": [
      "==================================================\n",
      "Learning rate set to 0.027144\n",
      "0:\tlearn: 0.5969243\ttest: 0.6001954\tbest: 0.6001954 (0)\ttotal: 38ms\tremaining: 1m 54s\n",
      "100:\tlearn: 0.6362366\ttest: 0.6398923\tbest: 0.6398923 (100)\ttotal: 3.66s\tremaining: 1m 44s\n",
      "200:\tlearn: 0.6495012\ttest: 0.6549794\tbest: 0.6550574 (198)\ttotal: 7.23s\tremaining: 1m 40s\n",
      "300:\tlearn: 0.6569610\ttest: 0.6644349\tbest: 0.6644349 (300)\ttotal: 10.8s\tremaining: 1m 36s\n",
      "400:\tlearn: 0.6611480\ttest: 0.6696163\tbest: 0.6696996 (398)\ttotal: 14.4s\tremaining: 1m 33s\n",
      "500:\tlearn: 0.6643620\ttest: 0.6745153\tbest: 0.6745657 (498)\ttotal: 17.9s\tremaining: 1m 29s\n",
      "600:\tlearn: 0.6671323\ttest: 0.6776968\tbest: 0.6777282 (599)\ttotal: 21.3s\tremaining: 1m 25s\n",
      "700:\tlearn: 0.6693414\ttest: 0.6801721\tbest: 0.6802212 (687)\ttotal: 24.8s\tremaining: 1m 21s\n",
      "800:\tlearn: 0.6710782\ttest: 0.6815557\tbest: 0.6816868 (797)\ttotal: 28.2s\tremaining: 1m 17s\n",
      "900:\tlearn: 0.6723805\ttest: 0.6827085\tbest: 0.6827085 (900)\ttotal: 31.6s\tremaining: 1m 13s\n",
      "1000:\tlearn: 0.6736406\ttest: 0.6838113\tbest: 0.6839564 (995)\ttotal: 35.1s\tremaining: 1m 10s\n",
      "1100:\tlearn: 0.6748508\ttest: 0.6849153\tbest: 0.6849153 (1100)\ttotal: 38.5s\tremaining: 1m 6s\n",
      "1200:\tlearn: 0.6758080\ttest: 0.6853486\tbest: 0.6853967 (1195)\ttotal: 41.9s\tremaining: 1m 2s\n",
      "1300:\tlearn: 0.6767691\ttest: 0.6853822\tbest: 0.6856493 (1258)\ttotal: 45.4s\tremaining: 59.3s\n",
      "1400:\tlearn: 0.6776175\ttest: 0.6858569\tbest: 0.6858569 (1400)\ttotal: 48.8s\tremaining: 55.7s\n",
      "1500:\tlearn: 0.6784278\ttest: 0.6856727\tbest: 0.6858979 (1405)\ttotal: 52.3s\tremaining: 52.2s\n",
      "bestTest = 0.6858979264\n",
      "bestIteration = 1405\n",
      "Shrink model to first 1406 iterations.\n",
      "==================================================\n",
      "Learning rate set to 0.027144\n",
      "0:\tlearn: 0.6284961\ttest: 0.6367507\tbest: 0.6367507 (0)\ttotal: 38ms\tremaining: 1m 54s\n",
      "100:\tlearn: 0.6371960\ttest: 0.6414116\tbest: 0.6414116 (100)\ttotal: 3.67s\tremaining: 1m 45s\n",
      "200:\tlearn: 0.6497661\ttest: 0.6577688\tbest: 0.6577688 (200)\ttotal: 7.27s\tremaining: 1m 41s\n",
      "300:\tlearn: 0.6568594\ttest: 0.6681247\tbest: 0.6681503 (299)\ttotal: 10.8s\tremaining: 1m 36s\n",
      "400:\tlearn: 0.6611824\ttest: 0.6730148\tbest: 0.6730148 (400)\ttotal: 14.3s\tremaining: 1m 32s\n",
      "500:\tlearn: 0.6640563\ttest: 0.6759699\tbest: 0.6763176 (495)\ttotal: 17.8s\tremaining: 1m 29s\n",
      "600:\tlearn: 0.6669492\ttest: 0.6790182\tbest: 0.6791842 (591)\ttotal: 21.3s\tremaining: 1m 25s\n",
      "700:\tlearn: 0.6689009\ttest: 0.6814090\tbest: 0.6815483 (694)\ttotal: 24.8s\tremaining: 1m 21s\n",
      "800:\tlearn: 0.6708790\ttest: 0.6830397\tbest: 0.6832314 (778)\ttotal: 28.2s\tremaining: 1m 17s\n",
      "900:\tlearn: 0.6723951\ttest: 0.6845083\tbest: 0.6846722 (889)\ttotal: 31.7s\tremaining: 1m 13s\n",
      "1000:\tlearn: 0.6735448\ttest: 0.6860076\tbest: 0.6860480 (998)\ttotal: 35.1s\tremaining: 1m 10s\n",
      "1100:\tlearn: 0.6747445\ttest: 0.6868712\tbest: 0.6869909 (1097)\ttotal: 38.5s\tremaining: 1m 6s\n",
      "1200:\tlearn: 0.6757155\ttest: 0.6874214\tbest: 0.6875060 (1197)\ttotal: 41.9s\tremaining: 1m 2s\n",
      "1300:\tlearn: 0.6766368\ttest: 0.6880634\tbest: 0.6881331 (1286)\ttotal: 45.3s\tremaining: 59.2s\n",
      "1400:\tlearn: 0.6774086\ttest: 0.6882674\tbest: 0.6884443 (1385)\ttotal: 48.8s\tremaining: 55.7s\n",
      "1500:\tlearn: 0.6781812\ttest: 0.6889139\tbest: 0.6889535 (1481)\ttotal: 52.2s\tremaining: 52.2s\n",
      "1600:\tlearn: 0.6789779\ttest: 0.6891418\tbest: 0.6893423 (1593)\ttotal: 55.6s\tremaining: 48.6s\n",
      "1700:\tlearn: 0.6795880\ttest: 0.6893233\tbest: 0.6893752 (1691)\ttotal: 59.1s\tremaining: 45.1s\n",
      "1800:\tlearn: 0.6801934\ttest: 0.6894638\tbest: 0.6895835 (1777)\ttotal: 1m 2s\tremaining: 41.7s\n",
      "1900:\tlearn: 0.6807902\ttest: 0.6896664\tbest: 0.6897486 (1878)\ttotal: 1m 6s\tremaining: 38.2s\n",
      "2000:\tlearn: 0.6813772\ttest: 0.6898927\tbest: 0.6899816 (1984)\ttotal: 1m 9s\tremaining: 34.7s\n",
      "2100:\tlearn: 0.6818287\ttest: 0.6900158\tbest: 0.6903442 (2055)\ttotal: 1m 12s\tremaining: 31.2s\n",
      "bestTest = 0.6903441892\n",
      "bestIteration = 2055\n",
      "Shrink model to first 2056 iterations.\n",
      "==================================================\n",
      "Learning rate set to 0.027144\n",
      "0:\tlearn: 0.6269517\ttest: 0.6265874\tbest: 0.6265874 (0)\ttotal: 38.5ms\tremaining: 1m 55s\n",
      "100:\tlearn: 0.6389279\ttest: 0.6405976\tbest: 0.6406607 (99)\ttotal: 3.68s\tremaining: 1m 45s\n",
      "200:\tlearn: 0.6511462\ttest: 0.6528613\tbest: 0.6528613 (200)\ttotal: 7.3s\tremaining: 1m 41s\n",
      "300:\tlearn: 0.6581667\ttest: 0.6622550\tbest: 0.6622550 (300)\ttotal: 10.8s\tremaining: 1m 37s\n",
      "400:\tlearn: 0.6620935\ttest: 0.6674705\tbest: 0.6674705 (400)\ttotal: 14.3s\tremaining: 1m 32s\n",
      "500:\tlearn: 0.6653195\ttest: 0.6713028\tbest: 0.6713856 (496)\ttotal: 17.9s\tremaining: 1m 29s\n",
      "600:\tlearn: 0.6681871\ttest: 0.6744648\tbest: 0.6745407 (588)\ttotal: 21.4s\tremaining: 1m 25s\n",
      "700:\tlearn: 0.6700461\ttest: 0.6768341\tbest: 0.6768341 (700)\ttotal: 24.9s\tremaining: 1m 21s\n",
      "800:\tlearn: 0.6715644\ttest: 0.6783779\tbest: 0.6784950 (793)\ttotal: 28.3s\tremaining: 1m 17s\n",
      "900:\tlearn: 0.6729349\ttest: 0.6796130\tbest: 0.6796378 (899)\ttotal: 31.8s\tremaining: 1m 14s\n",
      "1000:\tlearn: 0.6744295\ttest: 0.6804871\tbest: 0.6806026 (998)\ttotal: 35.2s\tremaining: 1m 10s\n",
      "1100:\tlearn: 0.6754391\ttest: 0.6815214\tbest: 0.6815466 (1094)\ttotal: 38.6s\tremaining: 1m 6s\n",
      "1200:\tlearn: 0.6764551\ttest: 0.6824062\tbest: 0.6824478 (1195)\ttotal: 42.1s\tremaining: 1m 3s\n",
      "1300:\tlearn: 0.6772042\ttest: 0.6825857\tbest: 0.6826174 (1290)\ttotal: 45.6s\tremaining: 59.5s\n",
      "1400:\tlearn: 0.6779342\ttest: 0.6827425\tbest: 0.6828811 (1353)\ttotal: 49s\tremaining: 56s\n",
      "1500:\tlearn: 0.6784771\ttest: 0.6831656\tbest: 0.6832831 (1448)\ttotal: 52.5s\tremaining: 52.4s\n",
      "1600:\tlearn: 0.6791792\ttest: 0.6834485\tbest: 0.6835824 (1549)\ttotal: 55.9s\tremaining: 48.9s\n",
      "1700:\tlearn: 0.6797959\ttest: 0.6838559\tbest: 0.6838559 (1700)\ttotal: 59.4s\tremaining: 45.4s\n",
      "1800:\tlearn: 0.6803867\ttest: 0.6841373\tbest: 0.6842383 (1793)\ttotal: 1m 2s\tremaining: 41.9s\n",
      "1900:\tlearn: 0.6809930\ttest: 0.6845201\tbest: 0.6847310 (1892)\ttotal: 1m 6s\tremaining: 38.4s\n",
      "bestTest = 0.6847310013\n",
      "bestIteration = 1892\n",
      "Shrink model to first 1893 iterations.\n",
      "==================================================\n",
      "Learning rate set to 0.027144\n",
      "0:\tlearn: 0.6085237\ttest: 0.6061929\tbest: 0.6061929 (0)\ttotal: 42ms\tremaining: 2m 6s\n",
      "100:\tlearn: 0.6357044\ttest: 0.6344168\tbest: 0.6344168 (100)\ttotal: 3.72s\tremaining: 1m 46s\n",
      "200:\tlearn: 0.6492331\ttest: 0.6491327\tbest: 0.6491327 (200)\ttotal: 7.29s\tremaining: 1m 41s\n",
      "300:\tlearn: 0.6571983\ttest: 0.6611483\tbest: 0.6611483 (300)\ttotal: 10.8s\tremaining: 1m 37s\n",
      "400:\tlearn: 0.6614293\ttest: 0.6664230\tbest: 0.6664230 (400)\ttotal: 14.3s\tremaining: 1m 32s\n",
      "500:\tlearn: 0.6646731\ttest: 0.6697644\tbest: 0.6697644 (500)\ttotal: 17.9s\tremaining: 1m 29s\n",
      "600:\tlearn: 0.6672434\ttest: 0.6731947\tbest: 0.6732182 (592)\ttotal: 21.4s\tremaining: 1m 25s\n",
      "700:\tlearn: 0.6691375\ttest: 0.6743819\tbest: 0.6744014 (699)\ttotal: 24.9s\tremaining: 1m 21s\n",
      "800:\tlearn: 0.6707181\ttest: 0.6766065\tbest: 0.6766520 (795)\ttotal: 28.4s\tremaining: 1m 17s\n",
      "900:\tlearn: 0.6722756\ttest: 0.6787546\tbest: 0.6788612 (895)\ttotal: 31.8s\tremaining: 1m 14s\n",
      "1000:\tlearn: 0.6737242\ttest: 0.6800807\tbest: 0.6802328 (991)\ttotal: 35.3s\tremaining: 1m 10s\n",
      "1100:\tlearn: 0.6750119\ttest: 0.6815578\tbest: 0.6815700 (1099)\ttotal: 38.7s\tremaining: 1m 6s\n",
      "1200:\tlearn: 0.6759847\ttest: 0.6820054\tbest: 0.6821201 (1180)\ttotal: 42.2s\tremaining: 1m 3s\n",
      "1300:\tlearn: 0.6766156\ttest: 0.6824350\tbest: 0.6826489 (1288)\ttotal: 45.6s\tremaining: 59.6s\n",
      "1400:\tlearn: 0.6775850\ttest: 0.6834925\tbest: 0.6834925 (1400)\ttotal: 49.2s\tremaining: 56.1s\n",
      "1500:\tlearn: 0.6783346\ttest: 0.6838618\tbest: 0.6841741 (1486)\ttotal: 52.6s\tremaining: 52.5s\n",
      "1600:\tlearn: 0.6790164\ttest: 0.6844456\tbest: 0.6845053 (1580)\ttotal: 56.1s\tremaining: 49s\n",
      "1700:\tlearn: 0.6797516\ttest: 0.6843848\tbest: 0.6847138 (1615)\ttotal: 59.6s\tremaining: 45.5s\n",
      "bestTest = 0.6847138047\n",
      "bestIteration = 1615\n",
      "Shrink model to first 1616 iterations.\n",
      "==================================================\n",
      "Learning rate set to 0.027144\n",
      "0:\tlearn: 0.6210359\ttest: 0.6192450\tbest: 0.6192450 (0)\ttotal: 42.7ms\tremaining: 2m 7s\n",
      "100:\tlearn: 0.6387488\ttest: 0.6379846\tbest: 0.6379846 (100)\ttotal: 3.7s\tremaining: 1m 46s\n",
      "200:\tlearn: 0.6512567\ttest: 0.6522951\tbest: 0.6525038 (198)\ttotal: 7.34s\tremaining: 1m 42s\n",
      "300:\tlearn: 0.6579980\ttest: 0.6602897\tbest: 0.6603714 (298)\ttotal: 10.9s\tremaining: 1m 37s\n",
      "400:\tlearn: 0.6630297\ttest: 0.6659996\tbest: 0.6660831 (398)\ttotal: 14.5s\tremaining: 1m 33s\n",
      "500:\tlearn: 0.6664809\ttest: 0.6704151\tbest: 0.6704151 (500)\ttotal: 18s\tremaining: 1m 29s\n",
      "600:\tlearn: 0.6693330\ttest: 0.6736660\tbest: 0.6738309 (594)\ttotal: 21.5s\tremaining: 1m 25s\n",
      "700:\tlearn: 0.6712296\ttest: 0.6758666\tbest: 0.6759420 (697)\ttotal: 25s\tremaining: 1m 22s\n",
      "800:\tlearn: 0.6730309\ttest: 0.6773373\tbest: 0.6773862 (772)\ttotal: 28.6s\tremaining: 1m 18s\n",
      "900:\tlearn: 0.6744033\ttest: 0.6787642\tbest: 0.6788023 (899)\ttotal: 32s\tremaining: 1m 14s\n",
      "1000:\tlearn: 0.6756013\ttest: 0.6797009\tbest: 0.6797959 (999)\ttotal: 35.5s\tremaining: 1m 10s\n",
      "1100:\tlearn: 0.6766929\ttest: 0.6808956\tbest: 0.6809786 (1098)\ttotal: 38.9s\tremaining: 1m 7s\n",
      "1200:\tlearn: 0.6775527\ttest: 0.6808797\tbest: 0.6811853 (1129)\ttotal: 42.4s\tremaining: 1m 3s\n",
      "bestTest = 0.6811853047\n",
      "bestIteration = 1129\n",
      "Shrink model to first 1130 iterations.\n",
      "EOT\n"
     ]
    }
   ],
   "source": [
    "#Train\n",
    "\n",
    "scores = []\n",
    "models = []\n",
    "epochs = 1\n",
    "\n",
    "for train, validation in cv.split(x_train):\n",
    "    print(\"=====\"*10)\n",
    "    print(epochs)\n",
    "    epochs += 1\n",
    "    preds = []\n",
    "\n",
    "    model = CatBoostClassifier(\n",
    "        iterations, random_state = SEED, task_type = \"GPU\", eval_metric = 'F1',\n",
    "        cat_features = cat_features, one_hot_max_size = 5\n",
    "    )\n",
    "\n",
    "    model.fit(\n",
    "        x_train.iloc[train], y_train[train],\n",
    "        eval_set = [(x_train.iloc[validation], y_train[validation])],\n",
    "        early_stopping_rounds = patience, #########################무엇?\n",
    "        verbose = 100 #################무엇?\n",
    "    )\n",
    "\n",
    "    models.append(model)\n",
    "    scores.append(model.get_best_score()['validation']['F1'])\n",
    "\n",
    "    if is_holdout:\n",
    "        break\n",
    "\n",
    "print(\"EOT\")"
   ]
  },
  {
   "cell_type": "code",
   "execution_count": 17,
   "metadata": {},
   "outputs": [
    {
     "name": "stdout",
     "output_type": "stream",
     "text": [
      "[0.6858979263906957, 0.6903441892420584, 0.6847310012756936, 0.6847138047138048, 0.6811853046801482]\n"
     ]
    }
   ],
   "source": [
    "print(scores)"
   ]
  },
  {
   "cell_type": "code",
   "execution_count": 19,
   "metadata": {},
   "outputs": [
    {
     "name": "stdout",
     "output_type": "stream",
     "text": [
      "Index(['id_y', 'id', 'd_l_match_yn', 'contents_attribute_j_1',\n",
      "       'contents_attribute_h', 'd_m_match_yn',\n",
      "       'person_prefer_d_1_attribute_d_s', 'contents_attribute_d',\n",
      "       'contents_attribute_l', 'person_attribute_a_1'],\n",
      "      dtype='object')\n",
      "Index(['id_y', 'id', 'd_l_match_yn', 'contents_attribute_j_1',\n",
      "       'contents_attribute_h', 'd_m_match_yn', 'contents_attribute_d',\n",
      "       'contents_attribute_l', 'person_prefer_d_1_attribute_d_s',\n",
      "       'person_attribute_a_1'],\n",
      "      dtype='object')\n",
      "Index(['id_y', 'id', 'd_l_match_yn', 'contents_attribute_j_1',\n",
      "       'contents_attribute_h', 'contents_attribute_d', 'd_m_match_yn',\n",
      "       'contents_attribute_l', 'person_attribute_a_1',\n",
      "       'contents_attribute_h_attribute_h_p'],\n",
      "      dtype='object')\n",
      "Index(['id_y', 'id', 'd_l_match_yn', 'contents_attribute_j_1', 'd_m_match_yn',\n",
      "       'contents_attribute_d', 'contents_attribute_h',\n",
      "       'person_prefer_d_1_attribute_d_s', 'contents_attribute_h_attribute_h_p',\n",
      "       'contents_attribute_l'],\n",
      "      dtype='object')\n",
      "Index(['id_y', 'id', 'd_l_match_yn', 'contents_attribute_j_1',\n",
      "       'contents_attribute_h', 'd_m_match_yn', 'contents_attribute_d',\n",
      "       'person_prefer_d_1_attribute_d_s', 'contents_attribute_l',\n",
      "       'person_attribute_a_1'],\n",
      "      dtype='object')\n"
     ]
    }
   ],
   "source": [
    "#feature importance\n",
    "\n",
    "for model in models:\n",
    "    idx = model.get_feature_importance().argsort()[-10:][::-1]\n",
    "    print(x_train.columns[idx])\n",
    "\n",
    "\n",
    "### id_y  = contetent_rn을 count로 변환한 값\n",
    "### id = person_rn을 count로 변환한 값"
   ]
  },
  {
   "cell_type": "code",
   "execution_count": 20,
   "metadata": {},
   "outputs": [
    {
     "name": "stdout",
     "output_type": "stream",
     "text": [
      "0.35 : 0.7144911610976059 \n",
      "0.37 : 0.7147750731978745 \n",
      "0.39 : 0.7148339556201475 \n",
      "0.41000000000000003 : 0.7144862622079143 \n",
      "0.43000000000000005 : 0.7137123541555728 \n",
      "0.45000000000000007 : 0.712411878470429 \n",
      "0.4700000000000001 : 0.7105170989682268 \n",
      "0.4900000000000001 : 0.7080043474622492 \n",
      "0.5100000000000001 : 0.704773229072693 \n",
      "0.5300000000000001 : 0.7007380596965256 \n",
      "0.5500000000000002 : 0.6957672681529266 \n"
     ]
    }
   ],
   "source": [
    "#Find Best Threshold\n",
    "\n",
    "pred_list = []\n",
    "scores = []\n",
    "\n",
    "thresholds = np.arange(0.35, 0.55, 0.02)\n",
    "for threshold in thresholds:\n",
    "    for i, (train, validation) in enumerate(cv.split(x_train)):\n",
    "        pred = models[i].predict_proba(x_train.iloc[validation])[:,1]\n",
    "        pred = np.where(pred >= threshold, 1, 0)\n",
    "        score = f1_score(y_train[validation], pred)\n",
    "        scores.append(score)\n",
    "        pred = models[i].predict_proba(x_test)[:,1]\n",
    "        pred_list.append(pred)\n",
    "    #print(scores)\n",
    "    print(f\"{threshold} : {np.mean(scores)} \")"
   ]
  },
  {
   "cell_type": "code",
   "execution_count": 21,
   "metadata": {},
   "outputs": [],
   "source": [
    "threshold = 0.4\n",
    "pred = np.mean(pred_list, axis = 0)\n",
    "pred = np.where(pred >= threshold, 1, 0)"
   ]
  },
  {
   "cell_type": "code",
   "execution_count": 22,
   "metadata": {},
   "outputs": [
    {
     "data": {
      "text/html": [
       "<div>\n",
       "<style scoped>\n",
       "    .dataframe tbody tr th:only-of-type {\n",
       "        vertical-align: middle;\n",
       "    }\n",
       "\n",
       "    .dataframe tbody tr th {\n",
       "        vertical-align: top;\n",
       "    }\n",
       "\n",
       "    .dataframe thead th {\n",
       "        text-align: right;\n",
       "    }\n",
       "</style>\n",
       "<table border=\"1\" class=\"dataframe\">\n",
       "  <thead>\n",
       "    <tr style=\"text-align: right;\">\n",
       "      <th></th>\n",
       "      <th>id</th>\n",
       "      <th>target</th>\n",
       "    </tr>\n",
       "  </thead>\n",
       "  <tbody>\n",
       "    <tr>\n",
       "      <th>0</th>\n",
       "      <td>0</td>\n",
       "      <td>0</td>\n",
       "    </tr>\n",
       "    <tr>\n",
       "      <th>1</th>\n",
       "      <td>1</td>\n",
       "      <td>0</td>\n",
       "    </tr>\n",
       "    <tr>\n",
       "      <th>2</th>\n",
       "      <td>2</td>\n",
       "      <td>1</td>\n",
       "    </tr>\n",
       "    <tr>\n",
       "      <th>3</th>\n",
       "      <td>3</td>\n",
       "      <td>0</td>\n",
       "    </tr>\n",
       "    <tr>\n",
       "      <th>4</th>\n",
       "      <td>4</td>\n",
       "      <td>1</td>\n",
       "    </tr>\n",
       "    <tr>\n",
       "      <th>...</th>\n",
       "      <td>...</td>\n",
       "      <td>...</td>\n",
       "    </tr>\n",
       "    <tr>\n",
       "      <th>46399</th>\n",
       "      <td>46399</td>\n",
       "      <td>1</td>\n",
       "    </tr>\n",
       "    <tr>\n",
       "      <th>46400</th>\n",
       "      <td>46400</td>\n",
       "      <td>1</td>\n",
       "    </tr>\n",
       "    <tr>\n",
       "      <th>46401</th>\n",
       "      <td>46401</td>\n",
       "      <td>1</td>\n",
       "    </tr>\n",
       "    <tr>\n",
       "      <th>46402</th>\n",
       "      <td>46402</td>\n",
       "      <td>1</td>\n",
       "    </tr>\n",
       "    <tr>\n",
       "      <th>46403</th>\n",
       "      <td>46403</td>\n",
       "      <td>1</td>\n",
       "    </tr>\n",
       "  </tbody>\n",
       "</table>\n",
       "<p>46404 rows × 2 columns</p>\n",
       "</div>"
      ],
      "text/plain": [
       "          id  target\n",
       "0          0       0\n",
       "1          1       0\n",
       "2          2       1\n",
       "3          3       0\n",
       "4          4       1\n",
       "...      ...     ...\n",
       "46399  46399       1\n",
       "46400  46400       1\n",
       "46401  46401       1\n",
       "46402  46402       1\n",
       "46403  46403       1\n",
       "\n",
       "[46404 rows x 2 columns]"
      ]
     },
     "execution_count": 22,
     "metadata": {},
     "output_type": "execute_result"
    }
   ],
   "source": [
    "sample_submission = pd.read_csv('/home/mglee/VSCODE/Dacon/Jobcare_data/sample_submission.csv')\n",
    "sample_submission['target'] = pred\n",
    "sample_submission"
   ]
  },
  {
   "cell_type": "code",
   "execution_count": 133,
   "metadata": {},
   "outputs": [],
   "source": [
    "sample_submission.to_csv(\"/home/mglee/VSCODE/Dacon/Jobcare_data/prediction_0116_.csv\", index=False)"
   ]
  }
 ],
 "metadata": {
  "interpreter": {
   "hash": "c6f34507fa43ba317958b721fa8398d2051b96ef3f3b32ff98429c26ce06f8cf"
  },
  "kernelspec": {
   "display_name": "Python 3.8.5 64-bit ('svmglee': conda)",
   "language": "python",
   "name": "python3"
  },
  "language_info": {
   "codemirror_mode": {
    "name": "ipython",
    "version": 3
   },
   "file_extension": ".py",
   "mimetype": "text/x-python",
   "name": "python",
   "nbconvert_exporter": "python",
   "pygments_lexer": "ipython3",
   "version": "3.8.5"
  },
  "orig_nbformat": 4
 },
 "nbformat": 4,
 "nbformat_minor": 2
}
