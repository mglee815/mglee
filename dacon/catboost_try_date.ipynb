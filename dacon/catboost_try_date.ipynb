{
 "cells": [
  {
   "cell_type": "code",
   "execution_count": 1,
   "metadata": {},
   "outputs": [],
   "source": [
    "import os\n",
    "import sys\n",
    "import platform\n",
    "import random\n",
    "import math\n",
    "from typing import List, Dict, Tuple\n",
    "from datetime import datetime\n",
    "\n",
    "import pandas as pd\n",
    "import numpy as np\n",
    "\n",
    "import sklearn\n",
    "from sklearn.model_selection import StratifiedKFold, KFold\n",
    "from sklearn.metrics import f1_score\n",
    "\n",
    "from catboost import Pool, CatBoostClassifier"
   ]
  },
  {
   "cell_type": "code",
   "execution_count": 2,
   "metadata": {},
   "outputs": [
    {
     "name": "stdout",
     "output_type": "stream",
     "text": [
      "- os: Linux-5.4.0-91-generic-x86_64-with-glibc2.10\n",
      "- python: 3.8.5 (default, Sep  4 2020, 07:30:14) \n",
      "[GCC 7.3.0]\n",
      "- pandas: 1.1.3\n",
      "- numpy: 1.19.2\n",
      "- sklearn: 0.23.2\n"
     ]
    }
   ],
   "source": [
    "print(f\"- os: {platform.platform()}\")\n",
    "print(f\"- python: {sys.version}\")\n",
    "print(f\"- pandas: {pd.__version__}\")\n",
    "print(f\"- numpy: {np.__version__}\")\n",
    "print(f\"- sklearn: {sklearn.__version__}\")"
   ]
  },
  {
   "cell_type": "code",
   "execution_count": 3,
   "metadata": {},
   "outputs": [
    {
     "name": "stdout",
     "output_type": "stream",
     "text": [
      "(501951, 35) (46404, 34)\n"
     ]
    }
   ],
   "source": [
    "train_df = pd.read_csv(\"/home/mglee/VSCODE/Dacon/Jobcare_data/train.csv\")\n",
    "test_df = pd.read_csv(\"/home/mglee/VSCODE/Dacon/Jobcare_data/test.csv\")\n",
    "\n",
    "code_d = pd.read_csv(\"/home/mglee/VSCODE/Dacon/Jobcare_data/속성_D_코드.csv\")\n",
    "code_h = pd.read_csv(\"/home/mglee/VSCODE/Dacon/Jobcare_data/속성_H_코드.csv\").iloc[:,:-1]\n",
    "code_l = pd.read_csv(\"/home/mglee/VSCODE/Dacon/Jobcare_data/속성_L_코드.csv\")\n",
    "\n",
    "print(train_df.shape, test_df.shape)"
   ]
  },
  {
   "cell_type": "code",
   "execution_count": 4,
   "metadata": {},
   "outputs": [],
   "source": [
    "code_d.columns= [\"attribute_d\",\"attribute_d_d\",\"attribute_d_s\",\"attribute_d_m\",\"attribute_d_l\"]\n",
    "code_h.columns= [\"attribute_h\", \"attribute_h_p\"]\n",
    "code_l.columns= [\"attribute_l\",\"attribute_l_d\",\"attribute_l_s\",\"attribute_l_m\",\"attribute_l_l\"]"
   ]
  },
  {
   "cell_type": "code",
   "execution_count": 5,
   "metadata": {},
   "outputs": [],
   "source": [
    "def Merge_codes(df:pd.DataFrame, df_code:pd.DataFrame, col:str) -> pd.DataFrame:\n",
    "    df = df.copy()\n",
    "    df_code = df_code.copy()\n",
    "    df_code = df_code.add_prefix(f\"{col}_\")\n",
    "    df_code.columns.values[0] = col\n",
    "    return pd.merge(df, df_code, how = 'left', on = col)"
   ]
  },
  {
   "cell_type": "markdown",
   "metadata": {},
   "source": [
    "### Feature_engineering과 Feature_enginerring2가 핵심적인 변화\n",
    "\n",
    "1. Feature_engineering 함수를 활성화 할 경우\n",
    "contents_rn이라는 변수를 제외하는 기존 모델과 다르게 변수로 사용함\n",
    "다만 그대로 사용하지 않고\n",
    "contents_rn을 몇번씩 등장했는지 카운팅해서 그 값을 변수로 사용\n",
    "\n",
    "2. Feature_engineering2 함수를 활성화 할 경우\n",
    "contents_rn과 같은 방식으로 person_rn변수를 전처리함\n",
    "기존 모델은 person_rn 변수를 통으로 사용했음\n"
   ]
  },
  {
   "cell_type": "code",
   "execution_count": 6,
   "metadata": {},
   "outputs": [],
   "source": [
    "#content_rn이라는 변수도 사용하되, 그대로 사용하는 것이 아니라 출현 빈도로 값을 재할당\n",
    "\n",
    "def Feature_engineering(df):\n",
    "    content_freq = df.groupby('contents_rn').count()['id']\n",
    "    df = pd.merge(df, content_freq, how = 'left', on = 'contents_rn')\n",
    "    # df.id_y = np.where(\n",
    "    #     df['id_y'] == 1, 1,\n",
    "    #     np.where(df['id_y'] < 5, 5,\n",
    "    #     np.where(df['id_y'] < 10, 10, 'over10')))\n",
    "    return df"
   ]
  },
  {
   "cell_type": "code",
   "execution_count": 8,
   "metadata": {},
   "outputs": [],
   "source": [
    "## person_rn도 count해서 사용 (overfitting 방지)\n",
    "\n",
    "def Feature_engineering2(df):\n",
    "    content_freq = df.groupby('contents_rn').count()['id']\n",
    "    df_temp = pd.merge(df, content_freq, how = 'left', on = 'contents_rn')\n",
    "\n",
    "    user_freq = df.groupby('person_rn').count()['id']\n",
    "    df = pd.merge(df_temp, user_freq, how = 'left', on = 'person_rn')\n",
    "    return df"
   ]
  },
  {
   "cell_type": "code",
   "execution_count": 9,
   "metadata": {},
   "outputs": [],
   "source": [
    "def Date_pre(data):\n",
    "    data['contents_open_dt'] = data['contents_open_dt'].astype('str')\n",
    "    DATE = data['contents_open_dt'].apply(lambda x: datetime.strptime(x, '%Y-%m-%d %H:%M:%S'))\n",
    "    \n",
    "    DATE = pd.DataFrame(DATE)\n",
    "    DATE = DATE.rename(columns = {'contents_open_dt': 'date'})\n",
    "    \n",
    "    DATE['Y'] = DATE['date'].apply(lambda x: x.timetuple()[0])\n",
    "    DATE['M'] = DATE['date'].apply(lambda x: x.timetuple()[1])\n",
    "    DATE['D'] = DATE['date'].apply(lambda x: x.timetuple()[2])\n",
    "    DATE['id'] = data['id']\n",
    "    \n",
    "    data = data.merge(DATE, on = 'id', how = 'left')\n",
    "    data = data.drop(columns = ['date', 'contents_open_dt'])\n",
    "    return data"
   ]
  },
  {
   "cell_type": "code",
   "execution_count": 13,
   "metadata": {},
   "outputs": [],
   "source": [
    "def Preprocess_data(\n",
    "    df:pd.DataFrame, is_train:bool = True, cols_merge:List[Tuple[str, pd.DataFrame]] = [], cols_equi:List[Tuple[str, str]] = [],\n",
    "    cols_drop:List[str] = ['id_x', 'person_prefer_f', 'person_perfer_g']) -> Tuple[pd.DataFrame, np.ndarray]:\n",
    "\n",
    "    df = df.copy()\n",
    "\n",
    "    #기존과의 차이점\n",
    "\n",
    "    df = Date_pre(df)\n",
    "\n",
    "    ########################################\n",
    "    #####어떤 방식으로 모델을 학습시킬지는 여기서 결정\n",
    "    df = Feature_engineering2(df)#########\n",
    "    ######################################\n",
    "    y_data = None\n",
    "    if is_train:\n",
    "        y_data = df['target'].to_numpy()\n",
    "        df = df.drop(columns='target')\n",
    "\n",
    "    for col, df_code in cols_merge:\n",
    "        df = Merge_codes(df, df_code, col)\n",
    "    \n",
    "    cols = df.select_dtypes(bool).columns.tolist()\n",
    "    df[cols] = df[cols].astype(int)\n",
    "\n",
    "    for col1, col2 in cols_equi:\n",
    "        df[f\"{col1}_{col2}\"] = (df[col1] == df[col2]).astype(int)\n",
    "    df = df.drop(columns= cols_drop)\n",
    "    \n",
    "    \n",
    "    return (df, y_data)"
   ]
  },
  {
   "cell_type": "code",
   "execution_count": 14,
   "metadata": {},
   "outputs": [],
   "source": [
    "cols_merge = [\n",
    "              (\"person_prefer_d_1\" , code_d),\n",
    "              (\"person_prefer_d_2\" , code_d),\n",
    "              (\"person_prefer_d_3\" , code_d),\n",
    "              (\"contents_attribute_d\" , code_d),\n",
    "              (\"person_prefer_h_1\" , code_h),\n",
    "              (\"person_prefer_h_2\" , code_h),\n",
    "              (\"person_prefer_h_3\" , code_h),\n",
    "              (\"contents_attribute_h\" , code_h),\n",
    "              (\"contents_attribute_l\" , code_l),\n",
    "]\n",
    "\n",
    "# 회원 속성과 콘텐츠 속성의 동일한 코드 여부에 대한 컬럼명 리스트\n",
    "cols_equi = [\n",
    "\n",
    "    (\"contents_attribute_c\",\"person_prefer_c\"),\n",
    "    (\"contents_attribute_e\",\"person_prefer_e\"),\n",
    "\n",
    "    (\"person_prefer_d_2_attribute_d_s\" , \"contents_attribute_d_attribute_d_s\"),\n",
    "    (\"person_prefer_d_2_attribute_d_m\" , \"contents_attribute_d_attribute_d_m\"),\n",
    "    (\"person_prefer_d_2_attribute_d_l\" , \"contents_attribute_d_attribute_d_l\"),\n",
    "    (\"person_prefer_d_3_attribute_d_s\" , \"contents_attribute_d_attribute_d_s\"),\n",
    "    (\"person_prefer_d_3_attribute_d_m\" , \"contents_attribute_d_attribute_d_m\"),\n",
    "    (\"person_prefer_d_3_attribute_d_l\" , \"contents_attribute_d_attribute_d_l\"),\n",
    "\n",
    "    (\"person_prefer_h_1_attribute_h_p\" , \"contents_attribute_h_attribute_h_p\"),\n",
    "    (\"person_prefer_h_2_attribute_h_p\" , \"contents_attribute_h_attribute_h_p\"),\n",
    "    (\"person_prefer_h_3_attribute_h_p\" , \"contents_attribute_h_attribute_h_p\"),\n",
    "\n",
    "]\n",
    "#########################################################################################################\n",
    "#######################앞에서 선택한 모델 학습법에 따라서 3개의 line중 적합한 것을 주석 해제하여 사용####################\n",
    "########################################################################################################\n",
    "\n",
    "# 학습에 필요없는 컬럼 리스트\n",
    "#cols_drop = [\"id_x\",\"person_prefer_f\",\"person_prefer_g\", \"contents_rn\"] #FE 사용할 경우\n",
    "#cols_drop = [\"id\",\"person_prefer_f\",\"person_prefer_g\"] #content_rn을 통으로 넣을 경우\n",
    "cols_drop = [\"id_x\",\"person_prefer_f\",\"person_prefer_g\", \"person_rn\", \"contents_rn\"] #FE2를 사용할 경우"
   ]
  },
  {
   "cell_type": "code",
   "execution_count": 12,
   "metadata": {},
   "outputs": [
    {
     "data": {
      "text/plain": [
       "((501951, 68), (501951,), (46404, 68))"
      ]
     },
     "execution_count": 12,
     "metadata": {},
     "output_type": "execute_result"
    }
   ],
   "source": [
    "x_train, y_train = Preprocess_data(train_df, cols_merge = cols_merge , cols_equi= cols_equi , cols_drop = cols_drop)\n",
    "x_test, _ = Preprocess_data(test_df,is_train = False, cols_merge = cols_merge , cols_equi= cols_equi  , cols_drop = cols_drop)\n",
    "x_train.shape , y_train.shape , x_test.shape"
   ]
  },
  {
   "cell_type": "code",
   "execution_count": 15,
   "metadata": {},
   "outputs": [],
   "source": [
    "cat_features = x_train.columns[x_train.nunique() > 2].tolist()"
   ]
  },
  {
   "cell_type": "code",
   "execution_count": 16,
   "metadata": {},
   "outputs": [],
   "source": [
    "is_holdout = False\n",
    "n_splits = 5\n",
    "iterations = 3000\n",
    "patience = 100\n",
    "SEED = 42\n",
    "\n",
    "cv = KFold(n_splits = n_splits, shuffle = True, random_state=SEED)"
   ]
  },
  {
   "cell_type": "code",
   "execution_count": 17,
   "metadata": {},
   "outputs": [
    {
     "name": "stdout",
     "output_type": "stream",
     "text": [
      "==================================================\n",
      "1\n",
      "Learning rate set to 0.027144\n",
      "0:\tlearn: 0.6154810\ttest: 0.6146935\tbest: 0.6146935 (0)\ttotal: 41.1ms\tremaining: 2m 3s\n",
      "100:\tlearn: 0.6374864\ttest: 0.6419290\tbest: 0.6419290 (100)\ttotal: 3.81s\tremaining: 1m 49s\n",
      "200:\tlearn: 0.6501092\ttest: 0.6563181\tbest: 0.6563181 (200)\ttotal: 7.47s\tremaining: 1m 44s\n",
      "300:\tlearn: 0.6572394\ttest: 0.6637949\tbest: 0.6637949 (300)\ttotal: 11.2s\tremaining: 1m 40s\n",
      "400:\tlearn: 0.6615530\ttest: 0.6683602\tbest: 0.6684557 (399)\ttotal: 14.9s\tremaining: 1m 36s\n",
      "500:\tlearn: 0.6650473\ttest: 0.6735410\tbest: 0.6736552 (497)\ttotal: 18.5s\tremaining: 1m 32s\n",
      "600:\tlearn: 0.6675285\ttest: 0.6766457\tbest: 0.6766457 (600)\ttotal: 22s\tremaining: 1m 27s\n",
      "700:\tlearn: 0.6694145\ttest: 0.6796602\tbest: 0.6797056 (697)\ttotal: 25.6s\tremaining: 1m 23s\n",
      "800:\tlearn: 0.6712084\ttest: 0.6813233\tbest: 0.6813233 (800)\ttotal: 29.1s\tremaining: 1m 19s\n",
      "900:\tlearn: 0.6726641\ttest: 0.6830134\tbest: 0.6830358 (898)\ttotal: 32.6s\tremaining: 1m 16s\n",
      "1000:\tlearn: 0.6740310\ttest: 0.6836120\tbest: 0.6836944 (996)\ttotal: 36.2s\tremaining: 1m 12s\n",
      "1100:\tlearn: 0.6750614\ttest: 0.6843905\tbest: 0.6843905 (1100)\ttotal: 39.7s\tremaining: 1m 8s\n",
      "1200:\tlearn: 0.6761306\ttest: 0.6852209\tbest: 0.6853443 (1184)\ttotal: 43.3s\tremaining: 1m 4s\n",
      "1300:\tlearn: 0.6767579\ttest: 0.6855390\tbest: 0.6855696 (1295)\ttotal: 46.8s\tremaining: 1m 1s\n",
      "1400:\tlearn: 0.6775851\ttest: 0.6859573\tbest: 0.6860626 (1391)\ttotal: 50.4s\tremaining: 57.5s\n",
      "1500:\tlearn: 0.6783737\ttest: 0.6859324\tbest: 0.6861726 (1454)\ttotal: 53.9s\tremaining: 53.8s\n",
      "bestTest = 0.6861725516\n",
      "bestIteration = 1454\n",
      "Shrink model to first 1455 iterations.\n",
      "==================================================\n",
      "2\n",
      "Learning rate set to 0.027144\n",
      "0:\tlearn: 0.6110204\ttest: 0.6043188\tbest: 0.6043188 (0)\ttotal: 47.3ms\tremaining: 2m 21s\n",
      "100:\tlearn: 0.6370410\ttest: 0.6408162\tbest: 0.6408162 (100)\ttotal: 3.79s\tremaining: 1m 48s\n",
      "200:\tlearn: 0.6490334\ttest: 0.6561362\tbest: 0.6561492 (199)\ttotal: 7.5s\tremaining: 1m 44s\n",
      "300:\tlearn: 0.6558034\ttest: 0.6663157\tbest: 0.6663733 (299)\ttotal: 11.1s\tremaining: 1m 39s\n",
      "400:\tlearn: 0.6606949\ttest: 0.6717042\tbest: 0.6717042 (400)\ttotal: 14.7s\tremaining: 1m 35s\n",
      "500:\tlearn: 0.6638966\ttest: 0.6749431\tbest: 0.6749490 (495)\ttotal: 18.4s\tremaining: 1m 31s\n",
      "600:\tlearn: 0.6668287\ttest: 0.6782307\tbest: 0.6782307 (600)\ttotal: 22s\tremaining: 1m 27s\n",
      "700:\tlearn: 0.6689384\ttest: 0.6801833\tbest: 0.6801833 (700)\ttotal: 25.5s\tremaining: 1m 23s\n",
      "800:\tlearn: 0.6706602\ttest: 0.6815665\tbest: 0.6816674 (798)\ttotal: 29.2s\tremaining: 1m 20s\n",
      "900:\tlearn: 0.6724060\ttest: 0.6836586\tbest: 0.6837003 (897)\ttotal: 32.7s\tremaining: 1m 16s\n",
      "1000:\tlearn: 0.6735900\ttest: 0.6852136\tbest: 0.6852767 (996)\ttotal: 36.3s\tremaining: 1m 12s\n",
      "1100:\tlearn: 0.6746189\ttest: 0.6858313\tbest: 0.6859876 (1085)\ttotal: 39.7s\tremaining: 1m 8s\n",
      "1200:\tlearn: 0.6754264\ttest: 0.6866277\tbest: 0.6867344 (1194)\ttotal: 43.2s\tremaining: 1m 4s\n",
      "1300:\tlearn: 0.6762266\ttest: 0.6870843\tbest: 0.6872612 (1278)\ttotal: 46.7s\tremaining: 1m 1s\n",
      "1400:\tlearn: 0.6770602\ttest: 0.6876911\tbest: 0.6877037 (1395)\ttotal: 50.3s\tremaining: 57.4s\n",
      "1500:\tlearn: 0.6777813\ttest: 0.6879770\tbest: 0.6881989 (1484)\ttotal: 53.9s\tremaining: 53.8s\n",
      "bestTest = 0.6881988761\n",
      "bestIteration = 1484\n",
      "Shrink model to first 1485 iterations.\n",
      "==================================================\n",
      "3\n",
      "Learning rate set to 0.027144\n",
      "0:\tlearn: 0.6146135\ttest: 0.6137830\tbest: 0.6137830 (0)\ttotal: 40.6ms\tremaining: 2m 1s\n",
      "100:\tlearn: 0.6377915\ttest: 0.6389154\tbest: 0.6391661 (99)\ttotal: 3.81s\tremaining: 1m 49s\n",
      "200:\tlearn: 0.6506670\ttest: 0.6518199\tbest: 0.6518387 (199)\ttotal: 7.55s\tremaining: 1m 45s\n",
      "300:\tlearn: 0.6567911\ttest: 0.6601821\tbest: 0.6601821 (300)\ttotal: 11.3s\tremaining: 1m 40s\n",
      "400:\tlearn: 0.6616986\ttest: 0.6663028\tbest: 0.6664369 (399)\ttotal: 14.9s\tremaining: 1m 36s\n",
      "500:\tlearn: 0.6651410\ttest: 0.6706399\tbest: 0.6706399 (500)\ttotal: 18.5s\tremaining: 1m 32s\n",
      "600:\tlearn: 0.6675677\ttest: 0.6736850\tbest: 0.6737233 (599)\ttotal: 22.2s\tremaining: 1m 28s\n",
      "700:\tlearn: 0.6696905\ttest: 0.6760617\tbest: 0.6760932 (699)\ttotal: 25.8s\tremaining: 1m 24s\n",
      "800:\tlearn: 0.6716331\ttest: 0.6777933\tbest: 0.6778361 (798)\ttotal: 29.4s\tremaining: 1m 20s\n",
      "900:\tlearn: 0.6731601\ttest: 0.6791543\tbest: 0.6791543 (900)\ttotal: 33s\tremaining: 1m 16s\n",
      "1000:\tlearn: 0.6740873\ttest: 0.6804844\tbest: 0.6805447 (993)\ttotal: 36.5s\tremaining: 1m 12s\n",
      "1100:\tlearn: 0.6753312\ttest: 0.6812082\tbest: 0.6813533 (1087)\ttotal: 39.9s\tremaining: 1m 8s\n",
      "1200:\tlearn: 0.6763540\ttest: 0.6818286\tbest: 0.6819697 (1152)\ttotal: 43.5s\tremaining: 1m 5s\n",
      "1300:\tlearn: 0.6773060\ttest: 0.6823986\tbest: 0.6825259 (1238)\ttotal: 47s\tremaining: 1m 1s\n",
      "1400:\tlearn: 0.6779317\ttest: 0.6825445\tbest: 0.6827308 (1338)\ttotal: 50.5s\tremaining: 57.7s\n",
      "1500:\tlearn: 0.6786213\ttest: 0.6830020\tbest: 0.6831860 (1488)\ttotal: 54.1s\tremaining: 54s\n",
      "1600:\tlearn: 0.6792609\ttest: 0.6830320\tbest: 0.6832254 (1568)\ttotal: 57.7s\tremaining: 50.4s\n",
      "1700:\tlearn: 0.6798551\ttest: 0.6836527\tbest: 0.6836860 (1695)\ttotal: 1m 1s\tremaining: 46.8s\n",
      "1800:\tlearn: 0.6804400\ttest: 0.6842842\tbest: 0.6842842 (1800)\ttotal: 1m 4s\tremaining: 43.2s\n",
      "1900:\tlearn: 0.6811894\ttest: 0.6843034\tbest: 0.6844618 (1863)\ttotal: 1m 8s\tremaining: 39.6s\n",
      "bestTest = 0.6844618305\n",
      "bestIteration = 1863\n",
      "Shrink model to first 1864 iterations.\n",
      "==================================================\n",
      "4\n",
      "Learning rate set to 0.027144\n",
      "0:\tlearn: 0.6145395\ttest: 0.6142310\tbest: 0.6142310 (0)\ttotal: 38.5ms\tremaining: 1m 55s\n",
      "100:\tlearn: 0.6365838\ttest: 0.6365856\tbest: 0.6365856 (100)\ttotal: 3.79s\tremaining: 1m 48s\n",
      "200:\tlearn: 0.6499580\ttest: 0.6515546\tbest: 0.6515546 (200)\ttotal: 7.52s\tremaining: 1m 44s\n",
      "300:\tlearn: 0.6573378\ttest: 0.6615497\tbest: 0.6615497 (300)\ttotal: 11.2s\tremaining: 1m 40s\n",
      "400:\tlearn: 0.6616516\ttest: 0.6673715\tbest: 0.6674162 (399)\ttotal: 14.9s\tremaining: 1m 36s\n",
      "500:\tlearn: 0.6643879\ttest: 0.6708548\tbest: 0.6708548 (500)\ttotal: 18.5s\tremaining: 1m 32s\n",
      "600:\tlearn: 0.6671918\ttest: 0.6740367\tbest: 0.6741189 (599)\ttotal: 22.1s\tremaining: 1m 28s\n",
      "700:\tlearn: 0.6691493\ttest: 0.6757598\tbest: 0.6757985 (699)\ttotal: 25.7s\tremaining: 1m 24s\n",
      "800:\tlearn: 0.6710501\ttest: 0.6779733\tbest: 0.6780358 (798)\ttotal: 29.2s\tremaining: 1m 20s\n",
      "900:\tlearn: 0.6722692\ttest: 0.6791862\tbest: 0.6792790 (869)\ttotal: 32.8s\tremaining: 1m 16s\n",
      "1000:\tlearn: 0.6736274\ttest: 0.6806271\tbest: 0.6806271 (1000)\ttotal: 36.4s\tremaining: 1m 12s\n",
      "1100:\tlearn: 0.6747243\ttest: 0.6817636\tbest: 0.6818273 (1098)\ttotal: 39.9s\tremaining: 1m 8s\n",
      "1200:\tlearn: 0.6754585\ttest: 0.6823147\tbest: 0.6823545 (1199)\ttotal: 43.5s\tremaining: 1m 5s\n",
      "1300:\tlearn: 0.6765769\ttest: 0.6827471\tbest: 0.6827908 (1289)\ttotal: 47s\tremaining: 1m 1s\n",
      "1400:\tlearn: 0.6771949\ttest: 0.6833571\tbest: 0.6833571 (1400)\ttotal: 50.7s\tremaining: 57.8s\n",
      "1500:\tlearn: 0.6779876\ttest: 0.6835148\tbest: 0.6835251 (1453)\ttotal: 54.3s\tremaining: 54.2s\n",
      "1600:\tlearn: 0.6787116\ttest: 0.6836681\tbest: 0.6839296 (1545)\ttotal: 57.8s\tremaining: 50.5s\n",
      "1700:\tlearn: 0.6793821\ttest: 0.6841589\tbest: 0.6841776 (1694)\ttotal: 1m 1s\tremaining: 46.9s\n",
      "1800:\tlearn: 0.6800024\ttest: 0.6841984\tbest: 0.6842004 (1772)\ttotal: 1m 5s\tremaining: 43.3s\n",
      "1900:\tlearn: 0.6805389\ttest: 0.6841720\tbest: 0.6843661 (1883)\ttotal: 1m 8s\tremaining: 39.7s\n",
      "2000:\tlearn: 0.6811305\ttest: 0.6845596\tbest: 0.6846686 (1990)\ttotal: 1m 12s\tremaining: 36s\n",
      "2100:\tlearn: 0.6817152\ttest: 0.6847045\tbest: 0.6847865 (2095)\ttotal: 1m 15s\tremaining: 32.4s\n",
      "2200:\tlearn: 0.6822970\ttest: 0.6850106\tbest: 0.6850937 (2199)\ttotal: 1m 19s\tremaining: 28.8s\n",
      "2300:\tlearn: 0.6827787\ttest: 0.6851367\tbest: 0.6852280 (2276)\ttotal: 1m 23s\tremaining: 25.2s\n",
      "bestTest = 0.6852279729\n",
      "bestIteration = 2276\n",
      "Shrink model to first 2277 iterations.\n",
      "==================================================\n",
      "5\n",
      "Learning rate set to 0.027144\n",
      "0:\tlearn: 0.6041014\ttest: 0.6008977\tbest: 0.6008977 (0)\ttotal: 38.8ms\tremaining: 1m 56s\n",
      "100:\tlearn: 0.6387932\ttest: 0.6387774\tbest: 0.6387774 (100)\ttotal: 3.79s\tremaining: 1m 48s\n",
      "200:\tlearn: 0.6516275\ttest: 0.6547959\tbest: 0.6547959 (200)\ttotal: 7.46s\tremaining: 1m 43s\n",
      "300:\tlearn: 0.6587133\ttest: 0.6626884\tbest: 0.6626884 (300)\ttotal: 11.1s\tremaining: 1m 39s\n",
      "400:\tlearn: 0.6630586\ttest: 0.6662438\tbest: 0.6662760 (397)\ttotal: 14.8s\tremaining: 1m 35s\n",
      "500:\tlearn: 0.6661732\ttest: 0.6693671\tbest: 0.6695404 (494)\ttotal: 18.4s\tremaining: 1m 31s\n",
      "600:\tlearn: 0.6691974\ttest: 0.6734412\tbest: 0.6734412 (600)\ttotal: 22s\tremaining: 1m 27s\n",
      "700:\tlearn: 0.6709127\ttest: 0.6754802\tbest: 0.6755118 (696)\ttotal: 25.6s\tremaining: 1m 23s\n",
      "800:\tlearn: 0.6722841\ttest: 0.6768740\tbest: 0.6769636 (794)\ttotal: 29.2s\tremaining: 1m 20s\n",
      "900:\tlearn: 0.6740112\ttest: 0.6788145\tbest: 0.6788145 (900)\ttotal: 32.8s\tremaining: 1m 16s\n",
      "1000:\tlearn: 0.6753346\ttest: 0.6802353\tbest: 0.6802353 (1000)\ttotal: 36.3s\tremaining: 1m 12s\n",
      "1100:\tlearn: 0.6761686\ttest: 0.6808955\tbest: 0.6810538 (1076)\ttotal: 39.8s\tremaining: 1m 8s\n",
      "1200:\tlearn: 0.6771993\ttest: 0.6817863\tbest: 0.6818260 (1187)\ttotal: 43.4s\tremaining: 1m 4s\n",
      "1300:\tlearn: 0.6781957\ttest: 0.6823710\tbest: 0.6825444 (1279)\ttotal: 46.9s\tremaining: 1m 1s\n",
      "1400:\tlearn: 0.6790980\ttest: 0.6829666\tbest: 0.6829666 (1400)\ttotal: 50.5s\tremaining: 57.6s\n",
      "1500:\tlearn: 0.6795606\ttest: 0.6830876\tbest: 0.6832824 (1480)\ttotal: 54s\tremaining: 54s\n",
      "1600:\tlearn: 0.6803271\ttest: 0.6834037\tbest: 0.6835545 (1575)\ttotal: 57.6s\tremaining: 50.3s\n",
      "1700:\tlearn: 0.6809244\ttest: 0.6837428\tbest: 0.6839565 (1691)\ttotal: 1m 1s\tremaining: 46.7s\n",
      "1800:\tlearn: 0.6815039\ttest: 0.6840161\tbest: 0.6840227 (1798)\ttotal: 1m 4s\tremaining: 43.2s\n",
      "1900:\tlearn: 0.6820726\ttest: 0.6843978\tbest: 0.6845376 (1891)\ttotal: 1m 8s\tremaining: 39.6s\n",
      "bestTest = 0.68453755\n",
      "bestIteration = 1891\n",
      "Shrink model to first 1892 iterations.\n",
      "EOT\n"
     ]
    }
   ],
   "source": [
    "#Train\n",
    "\n",
    "scores = []\n",
    "models = []\n",
    "epochs = 1\n",
    "\n",
    "for train, validation in cv.split(x_train):\n",
    "    print(\"=====\"*10)\n",
    "    print(epochs)\n",
    "    epochs += 1\n",
    "    preds = []\n",
    "\n",
    "    model = CatBoostClassifier(\n",
    "        iterations, random_state = SEED, task_type = \"GPU\", eval_metric = 'F1',\n",
    "        cat_features = cat_features, one_hot_max_size = 5\n",
    "    )\n",
    "\n",
    "    model.fit(\n",
    "        x_train.iloc[train], y_train[train],\n",
    "        eval_set = [(x_train.iloc[validation], y_train[validation])],\n",
    "        early_stopping_rounds = patience, #########################무엇?\n",
    "        verbose = 100 #################무엇?\n",
    "    )\n",
    "\n",
    "    models.append(model)\n",
    "    scores.append(model.get_best_score()['validation']['F1'])\n",
    "\n",
    "    if is_holdout:\n",
    "        break\n",
    "\n",
    "print(\"EOT\")"
   ]
  },
  {
   "cell_type": "code",
   "execution_count": 18,
   "metadata": {},
   "outputs": [
    {
     "name": "stdout",
     "output_type": "stream",
     "text": [
      "[0.6861725515685638, 0.6881988760834366, 0.6844618305240753, 0.6852279728897104, 0.6845375500153893]\n"
     ]
    }
   ],
   "source": [
    "print(scores)"
   ]
  },
  {
   "cell_type": "code",
   "execution_count": 19,
   "metadata": {},
   "outputs": [
    {
     "name": "stdout",
     "output_type": "stream",
     "text": [
      "Index(['id_y', 'id', 'd_l_match_yn', 'contents_attribute_j_1',\n",
      "       'contents_attribute_h', 'd_m_match_yn',\n",
      "       'person_prefer_d_1_attribute_d_s', 'contents_attribute_d',\n",
      "       'contents_attribute_l', 'person_attribute_a_1'],\n",
      "      dtype='object')\n",
      "Index(['id_y', 'id', 'd_l_match_yn', 'contents_attribute_j_1',\n",
      "       'contents_attribute_h', 'd_m_match_yn',\n",
      "       'person_prefer_d_1_attribute_d_s', 'contents_attribute_d',\n",
      "       'contents_attribute_l', 'person_attribute_a_1'],\n",
      "      dtype='object')\n",
      "Index(['id_y', 'id', 'd_l_match_yn', 'contents_attribute_j_1',\n",
      "       'contents_attribute_h', 'd_m_match_yn', 'contents_attribute_d',\n",
      "       'contents_attribute_l', 'person_attribute_a_1',\n",
      "       'contents_attribute_h_attribute_h_p'],\n",
      "      dtype='object')\n",
      "Index(['id_y', 'id', 'd_l_match_yn', 'contents_attribute_j_1',\n",
      "       'contents_attribute_h', 'd_m_match_yn',\n",
      "       'person_prefer_d_1_attribute_d_s', 'contents_attribute_d',\n",
      "       'contents_attribute_l', 'person_attribute_a_1'],\n",
      "      dtype='object')\n",
      "Index(['id_y', 'id', 'd_l_match_yn', 'contents_attribute_j_1',\n",
      "       'contents_attribute_h', 'contents_attribute_d', 'd_m_match_yn',\n",
      "       'person_prefer_d_1_attribute_d_s', 'person_attribute_a_1',\n",
      "       'contents_attribute_l'],\n",
      "      dtype='object')\n"
     ]
    }
   ],
   "source": [
    "#feature importance\n",
    "\n",
    "for model in models:\n",
    "    idx = model.get_feature_importance().argsort()[-10:][::-1]\n",
    "    print(x_train.columns[idx])\n",
    "\n",
    "\n",
    "### id_y  = contetent_rn을 count로 변환한 값\n",
    "### id = person_rn을 count로 변환한 값"
   ]
  },
  {
   "cell_type": "code",
   "execution_count": 20,
   "metadata": {},
   "outputs": [
    {
     "name": "stdout",
     "output_type": "stream",
     "text": [
      "0.39 : 0.7152005690696145 \n",
      "0.4 : 0.7149087513082059 \n",
      "0.41000000000000003 : 0.7144867389873769 \n",
      "0.42000000000000004 : 0.7139532760644545 \n"
     ]
    }
   ],
   "source": [
    "#Find Best Threshold\n",
    "\n",
    "pred_list = []\n",
    "scores = []\n",
    "\n",
    "thresholds = np.arange(0.39, 0.43, 0.01)\n",
    "for threshold in thresholds:\n",
    "    for i, (train, validation) in enumerate(cv.split(x_train)):\n",
    "        pred = models[i].predict_proba(x_train.iloc[validation])[:,1]\n",
    "        pred = np.where(pred >= threshold, 1, 0)\n",
    "        score = f1_score(y_train[validation], pred)\n",
    "        scores.append(score)\n",
    "        pred = models[i].predict_proba(x_test)[:,1]\n",
    "        pred_list.append(pred)\n",
    "    #print(scores)\n",
    "    print(f\"{threshold} : {np.mean(scores)} \")"
   ]
  },
  {
   "cell_type": "code",
   "execution_count": 30,
   "metadata": {},
   "outputs": [
    {
     "data": {
      "text/plain": [
       "array([1, 0, 1, ..., 1, 1, 1])"
      ]
     },
     "execution_count": 30,
     "metadata": {},
     "output_type": "execute_result"
    }
   ],
   "source": [
    "threshold = 0.39\n",
    "\n",
    "for i, (train, validation) in enumerate(cv.split(x_train)):\n",
    "    pred = models[i].predict_proba(x_train.iloc[validation])[:,1]\n",
    "    pred = np.where(pred >= threshold, 1, 0)\n",
    "    score = f1_score(y_train[validation], pred)\n",
    "    scores.append(score)\n",
    "    pred = models[i].predict_proba(x_test)[:,1]\n",
    "    pred_list.append(pred)\n",
    "pred = np.mean(pred_list, axis = 0)\n",
    "pred = np.where(pred >= threshold, 1, 0)\n",
    "pred"
   ]
  },
  {
   "cell_type": "markdown",
   "metadata": {},
   "source": [
    "##########LGBM이랑 섞어보기"
   ]
  },
  {
   "cell_type": "code",
   "execution_count": 22,
   "metadata": {},
   "outputs": [],
   "source": [
    "lgbm = pd.read_pickle(\"lgbm.pkl\")\n",
    "\n",
    "final = []\n",
    "for i in range(len(pred)):\n",
    "    final.append(pred[i] + lgbm[i] / 2)\n",
    "\n",
    "#final\n"
   ]
  },
  {
   "cell_type": "code",
   "execution_count": 26,
   "metadata": {},
   "outputs": [
    {
     "data": {
      "text/plain": [
       "0.8257693302301525"
      ]
     },
     "execution_count": 26,
     "metadata": {},
     "output_type": "execute_result"
    }
   ],
   "source": [
    "ans = []\n",
    "for item in final:\n",
    "    if item >= 0.5:\n",
    "        ans.append(1)\n",
    "    else:\n",
    "        ans.append(0)\n",
    "sum(ans) / len(ans)"
   ]
  },
  {
   "cell_type": "code",
   "execution_count": 31,
   "metadata": {},
   "outputs": [
    {
     "data": {
      "text/html": [
       "<div>\n",
       "<style scoped>\n",
       "    .dataframe tbody tr th:only-of-type {\n",
       "        vertical-align: middle;\n",
       "    }\n",
       "\n",
       "    .dataframe tbody tr th {\n",
       "        vertical-align: top;\n",
       "    }\n",
       "\n",
       "    .dataframe thead th {\n",
       "        text-align: right;\n",
       "    }\n",
       "</style>\n",
       "<table border=\"1\" class=\"dataframe\">\n",
       "  <thead>\n",
       "    <tr style=\"text-align: right;\">\n",
       "      <th></th>\n",
       "      <th>id</th>\n",
       "      <th>target</th>\n",
       "    </tr>\n",
       "  </thead>\n",
       "  <tbody>\n",
       "    <tr>\n",
       "      <th>0</th>\n",
       "      <td>0</td>\n",
       "      <td>1</td>\n",
       "    </tr>\n",
       "    <tr>\n",
       "      <th>1</th>\n",
       "      <td>1</td>\n",
       "      <td>0</td>\n",
       "    </tr>\n",
       "    <tr>\n",
       "      <th>2</th>\n",
       "      <td>2</td>\n",
       "      <td>1</td>\n",
       "    </tr>\n",
       "    <tr>\n",
       "      <th>3</th>\n",
       "      <td>3</td>\n",
       "      <td>0</td>\n",
       "    </tr>\n",
       "    <tr>\n",
       "      <th>4</th>\n",
       "      <td>4</td>\n",
       "      <td>1</td>\n",
       "    </tr>\n",
       "    <tr>\n",
       "      <th>...</th>\n",
       "      <td>...</td>\n",
       "      <td>...</td>\n",
       "    </tr>\n",
       "    <tr>\n",
       "      <th>46399</th>\n",
       "      <td>46399</td>\n",
       "      <td>1</td>\n",
       "    </tr>\n",
       "    <tr>\n",
       "      <th>46400</th>\n",
       "      <td>46400</td>\n",
       "      <td>1</td>\n",
       "    </tr>\n",
       "    <tr>\n",
       "      <th>46401</th>\n",
       "      <td>46401</td>\n",
       "      <td>1</td>\n",
       "    </tr>\n",
       "    <tr>\n",
       "      <th>46402</th>\n",
       "      <td>46402</td>\n",
       "      <td>1</td>\n",
       "    </tr>\n",
       "    <tr>\n",
       "      <th>46403</th>\n",
       "      <td>46403</td>\n",
       "      <td>1</td>\n",
       "    </tr>\n",
       "  </tbody>\n",
       "</table>\n",
       "<p>46404 rows × 2 columns</p>\n",
       "</div>"
      ],
      "text/plain": [
       "          id  target\n",
       "0          0       1\n",
       "1          1       0\n",
       "2          2       1\n",
       "3          3       0\n",
       "4          4       1\n",
       "...      ...     ...\n",
       "46399  46399       1\n",
       "46400  46400       1\n",
       "46401  46401       1\n",
       "46402  46402       1\n",
       "46403  46403       1\n",
       "\n",
       "[46404 rows x 2 columns]"
      ]
     },
     "execution_count": 31,
     "metadata": {},
     "output_type": "execute_result"
    }
   ],
   "source": [
    "sample_submission = pd.read_csv('/home/mglee/VSCODE/Dacon/Jobcare_data/sample_submission.csv')\n",
    "sample_submission['target'] = pred\n",
    "sample_submission"
   ]
  },
  {
   "cell_type": "code",
   "execution_count": 29,
   "metadata": {},
   "outputs": [],
   "source": [
    "sample_submission.to_csv(\"/home/mglee/VSCODE/Dacon/Jobcare_data/prediction_0119.csv\", index=False)"
   ]
  }
 ],
 "metadata": {
  "interpreter": {
   "hash": "c6f34507fa43ba317958b721fa8398d2051b96ef3f3b32ff98429c26ce06f8cf"
  },
  "kernelspec": {
   "display_name": "Python 3.8.5 64-bit ('svmglee': conda)",
   "language": "python",
   "name": "python3"
  },
  "language_info": {
   "codemirror_mode": {
    "name": "ipython",
    "version": 3
   },
   "file_extension": ".py",
   "mimetype": "text/x-python",
   "name": "python",
   "nbconvert_exporter": "python",
   "pygments_lexer": "ipython3",
   "version": "3.8.5"
  },
  "orig_nbformat": 4
 },
 "nbformat": 4,
 "nbformat_minor": 2
}
