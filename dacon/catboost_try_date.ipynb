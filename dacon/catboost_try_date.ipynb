{
 "cells": [
  {
   "cell_type": "code",
   "execution_count": 2,
   "metadata": {},
   "outputs": [],
   "source": [
    "import os\n",
    "import sys\n",
    "import platform\n",
    "import random\n",
    "import math\n",
    "from typing import List, Dict, Tuple\n",
    "from datetime import datetime\n",
    "\n",
    "import pandas as pd\n",
    "import numpy as np\n",
    "\n",
    "import sklearn\n",
    "from sklearn.model_selection import StratifiedKFold, KFold\n",
    "from sklearn.metrics import f1_score\n",
    "\n",
    "from catboost import Pool, CatBoostClassifier"
   ]
  },
  {
   "cell_type": "code",
   "execution_count": 3,
   "metadata": {},
   "outputs": [
    {
     "name": "stdout",
     "output_type": "stream",
     "text": [
      "- os: Linux-5.4.0-91-generic-x86_64-with-glibc2.10\n",
      "- python: 3.8.5 (default, Sep  4 2020, 07:30:14) \n",
      "[GCC 7.3.0]\n",
      "- pandas: 1.1.3\n",
      "- numpy: 1.19.2\n",
      "- sklearn: 0.23.2\n"
     ]
    }
   ],
   "source": [
    "print(f\"- os: {platform.platform()}\")\n",
    "print(f\"- python: {sys.version}\")\n",
    "print(f\"- pandas: {pd.__version__}\")\n",
    "print(f\"- numpy: {np.__version__}\")\n",
    "print(f\"- sklearn: {sklearn.__version__}\")"
   ]
  },
  {
   "cell_type": "code",
   "execution_count": 4,
   "metadata": {},
   "outputs": [
    {
     "name": "stdout",
     "output_type": "stream",
     "text": [
      "(501951, 35) (46404, 34)\n"
     ]
    }
   ],
   "source": [
    "train_df = pd.read_csv(\"/home/mglee/VSCODE/Dacon/Jobcare_data/train.csv\")\n",
    "test_df = pd.read_csv(\"/home/mglee/VSCODE/Dacon/Jobcare_data/test.csv\")\n",
    "\n",
    "code_d = pd.read_csv(\"/home/mglee/VSCODE/Dacon/Jobcare_data/속성_D_코드.csv\")\n",
    "code_h = pd.read_csv(\"/home/mglee/VSCODE/Dacon/Jobcare_data/속성_H_코드.csv\").iloc[:,:-1]\n",
    "code_l = pd.read_csv(\"/home/mglee/VSCODE/Dacon/Jobcare_data/속성_L_코드.csv\")\n",
    "\n",
    "print(train_df.shape, test_df.shape)"
   ]
  },
  {
   "cell_type": "code",
   "execution_count": 5,
   "metadata": {},
   "outputs": [],
   "source": [
    "code_d.columns= [\"attribute_d\",\"attribute_d_d\",\"attribute_d_s\",\"attribute_d_m\",\"attribute_d_l\"]\n",
    "code_h.columns= [\"attribute_h\", \"attribute_h_p\"]\n",
    "code_l.columns= [\"attribute_l\",\"attribute_l_d\",\"attribute_l_s\",\"attribute_l_m\",\"attribute_l_l\"]"
   ]
  },
  {
   "cell_type": "code",
   "execution_count": 6,
   "metadata": {},
   "outputs": [],
   "source": [
    "def Merge_codes(df:pd.DataFrame, df_code:pd.DataFrame, col:str) -> pd.DataFrame:\n",
    "    df = df.copy()\n",
    "    df_code = df_code.copy()\n",
    "    df_code = df_code.add_prefix(f\"{col}_\")\n",
    "    df_code.columns.values[0] = col\n",
    "    return pd.merge(df, df_code, how = 'left', on = col)"
   ]
  },
  {
   "cell_type": "markdown",
   "metadata": {},
   "source": [
    "### Feature_engineering과 Feature_enginerring2가 핵심적인 변화\n",
    "\n",
    "1. Feature_engineering 함수를 활성화 할 경우\n",
    "contents_rn이라는 변수를 제외하는 기존 모델과 다르게 변수로 사용함\n",
    "다만 그대로 사용하지 않고\n",
    "contents_rn을 몇번씩 등장했는지 카운팅해서 그 값을 변수로 사용\n",
    "\n",
    "2. Feature_engineering2 함수를 활성화 할 경우\n",
    "contents_rn과 같은 방식으로 person_rn변수를 전처리함\n",
    "기존 모델은 person_rn 변수를 통으로 사용했음\n"
   ]
  },
  {
   "cell_type": "code",
   "execution_count": 89,
   "metadata": {},
   "outputs": [],
   "source": [
    "#content_rn이라는 변수도 사용하되, 그대로 사용하는 것이 아니라 출현 빈도로 값을 재할당\n",
    "\n",
    "def Feature_engineering(df):\n",
    "    content_freq = df.groupby('contents_rn').count()['id']\n",
    "    df = pd.merge(df, content_freq, how = 'left', on = 'contents_rn')\n",
    "    # df.id_y = np.where(\n",
    "    #     df['id_y'] == 1, 1,\n",
    "    #     np.where(df['id_y'] < 5, 5,\n",
    "    #     np.where(df['id_y'] < 10, 10, 'over10')))\n",
    "    return df"
   ]
  },
  {
   "cell_type": "code",
   "execution_count": 7,
   "metadata": {},
   "outputs": [],
   "source": [
    "## person_rn도 count해서 사용 (overfitting 방지)\n",
    "\n",
    "def Feature_engineering2(df):\n",
    "    content_freq = df.groupby('contents_rn').count()['id']\n",
    "    df_temp = pd.merge(df, content_freq, how = 'left', on = 'contents_rn')\n",
    "\n",
    "    user_freq = df.groupby('person_rn').count()['id']\n",
    "    df = pd.merge(df_temp, user_freq, how = 'left', on = 'person_rn')\n",
    "    return df"
   ]
  },
  {
   "cell_type": "code",
   "execution_count": 8,
   "metadata": {},
   "outputs": [],
   "source": [
    "def Date_pre(data):\n",
    "    data['contents_open_dt'] = data['contents_open_dt'].astype('str')\n",
    "    DATE = data['contents_open_dt'].apply(lambda x: datetime.strptime(x, '%Y-%m-%d %H:%M:%S'))\n",
    "    \n",
    "    DATE = pd.DataFrame(DATE)\n",
    "    DATE = DATE.rename(columns = {'contents_open_dt': 'date'})\n",
    "    \n",
    "    DATE['Y'] = DATE['date'].apply(lambda x: x.timetuple()[0])\n",
    "    DATE['M'] = DATE['date'].apply(lambda x: x.timetuple()[1])\n",
    "    DATE['D'] = DATE['date'].apply(lambda x: x.timetuple()[2])\n",
    "    DATE['id'] = data['id']\n",
    "    \n",
    "    data = data.merge(DATE, on = 'id', how = 'left')\n",
    "    data = data.drop(columns = ['date', 'contents_open_dt'])\n",
    "    return data"
   ]
  },
  {
   "cell_type": "code",
   "execution_count": 9,
   "metadata": {},
   "outputs": [],
   "source": [
    "def Preprocess_data(\n",
    "    df:pd.DataFrame, is_train:bool = True, cols_merge:List[Tuple[str, pd.DataFrame]] = [], cols_equi:List[Tuple[str, str]] = [],\n",
    "    cols_drop:List[str] = ['id_x', 'person_prefer_f', 'person_perfer_g']) -> Tuple[pd.DataFrame, np.ndarray]:\n",
    "\n",
    "    df = df.copy()\n",
    "\n",
    "    #기존과의 차이점\n",
    "\n",
    "    df = Date_pre(df)\n",
    "\n",
    "    ########################################\n",
    "    #####어떤 방식으로 모델을 학습시킬지는 여기서 결정\n",
    "    df = Feature_engineering2(df)#########\n",
    "    ######################################\n",
    "    y_data = None\n",
    "    if is_train:\n",
    "        y_data = df['target'].to_numpy()\n",
    "        df = df.drop(columns='target')\n",
    "\n",
    "    for col, df_code in cols_merge:\n",
    "        df = Merge_codes(df, df_code, col)\n",
    "    \n",
    "    cols = df.select_dtypes(bool).columns.tolist()\n",
    "    df[cols] = df[cols].astype(int)\n",
    "\n",
    "    for col1, col2 in cols_equi:\n",
    "        df[f\"{col1}_{col2}\"] = (df[col1] == df[col2]).astype(int)\n",
    "    df = df.drop(columns= cols_drop)\n",
    "    \n",
    "    \n",
    "    return (df, y_data)"
   ]
  },
  {
   "cell_type": "code",
   "execution_count": 20,
   "metadata": {},
   "outputs": [],
   "source": [
    "cols_merge = [\n",
    "              (\"person_prefer_d_1\" , code_d),\n",
    "              (\"person_prefer_d_2\" , code_d),\n",
    "              (\"person_prefer_d_3\" , code_d),\n",
    "              (\"contents_attribute_d\" , code_d),\n",
    "              (\"person_prefer_h_1\" , code_h),\n",
    "              (\"person_prefer_h_2\" , code_h),\n",
    "              (\"person_prefer_h_3\" , code_h),\n",
    "              (\"contents_attribute_h\" , code_h),\n",
    "              (\"contents_attribute_l\" , code_l),\n",
    "]\n",
    "\n",
    "# 회원 속성과 콘텐츠 속성의 동일한 코드 여부에 대한 컬럼명 리스트\n",
    "cols_equi = [\n",
    "\n",
    "    (\"contents_attribute_c\",\"person_prefer_c\"),\n",
    "    (\"contents_attribute_e\",\"person_prefer_e\"),\n",
    "\n",
    "    (\"person_prefer_d_2_attribute_d_s\" , \"contents_attribute_d_attribute_d_s\"),\n",
    "    (\"person_prefer_d_2_attribute_d_m\" , \"contents_attribute_d_attribute_d_m\"),\n",
    "    (\"person_prefer_d_2_attribute_d_l\" , \"contents_attribute_d_attribute_d_l\"),\n",
    "    (\"person_prefer_d_3_attribute_d_s\" , \"contents_attribute_d_attribute_d_s\"),\n",
    "    (\"person_prefer_d_3_attribute_d_m\" , \"contents_attribute_d_attribute_d_m\"),\n",
    "    (\"person_prefer_d_3_attribute_d_l\" , \"contents_attribute_d_attribute_d_l\"),\n",
    "\n",
    "    (\"person_prefer_h_1_attribute_h_p\" , \"contents_attribute_h_attribute_h_p\"),\n",
    "    (\"person_prefer_h_2_attribute_h_p\" , \"contents_attribute_h_attribute_h_p\"),\n",
    "    (\"person_prefer_h_3_attribute_h_p\" , \"contents_attribute_h_attribute_h_p\"),\n",
    "\n",
    "]\n",
    "#########################################################################################################\n",
    "#######################앞에서 선택한 모델 학습법에 따라서 3개의 line중 적합한 것을 주석 해제하여 사용####################\n",
    "########################################################################################################\n",
    "\n",
    "# 학습에 필요없는 컬럼 리스트\n",
    "#cols_drop = [\"id_x\",\"person_prefer_f\",\"person_prefer_g\", \"contents_rn\"] #FE 사용할 경우\n",
    "#cols_drop = [\"id\",\"person_prefer_f\",\"person_prefer_g\"] #content_rn을 통으로 넣을 경우\n",
    "cols_drop = [\"id_x\",\"person_prefer_f\",\"person_prefer_g\", \"person_rn\", \"contents_rn\"] #FE2를 사용할 경우"
   ]
  },
  {
   "cell_type": "code",
   "execution_count": 21,
   "metadata": {},
   "outputs": [
    {
     "data": {
      "text/plain": [
       "((501951, 68), (501951,), (46404, 68))"
      ]
     },
     "execution_count": 21,
     "metadata": {},
     "output_type": "execute_result"
    }
   ],
   "source": [
    "x_train, y_train = Preprocess_data(train_df, cols_merge = cols_merge , cols_equi= cols_equi , cols_drop = cols_drop)\n",
    "x_test, _ = Preprocess_data(test_df,is_train = False, cols_merge = cols_merge , cols_equi= cols_equi  , cols_drop = cols_drop)\n",
    "x_train.shape , y_train.shape , x_test.shape"
   ]
  },
  {
   "cell_type": "code",
   "execution_count": 22,
   "metadata": {},
   "outputs": [],
   "source": [
    "cat_features = x_train.columns[x_train.nunique() > 2].tolist()"
   ]
  },
  {
   "cell_type": "code",
   "execution_count": 23,
   "metadata": {},
   "outputs": [],
   "source": [
    "is_holdout = False\n",
    "n_splits = 5\n",
    "iterations = 3000\n",
    "patience = 100\n",
    "SEED = 42\n",
    "\n",
    "cv = KFold(n_splits = n_splits, shuffle = True, random_state=SEED)"
   ]
  },
  {
   "cell_type": "code",
   "execution_count": 24,
   "metadata": {},
   "outputs": [
    {
     "name": "stdout",
     "output_type": "stream",
     "text": [
      "==================================================\n",
      "1\n",
      "Learning rate set to 0.027144\n",
      "0:\tlearn: 0.6154810\ttest: 0.6146935\tbest: 0.6146935 (0)\ttotal: 39.9ms\tremaining: 1m 59s\n",
      "100:\tlearn: 0.6374864\ttest: 0.6419290\tbest: 0.6419290 (100)\ttotal: 3.82s\tremaining: 1m 49s\n",
      "200:\tlearn: 0.6501077\ttest: 0.6563244\tbest: 0.6563244 (200)\ttotal: 7.51s\tremaining: 1m 44s\n",
      "300:\tlearn: 0.6572394\ttest: 0.6637949\tbest: 0.6637949 (300)\ttotal: 11.2s\tremaining: 1m 40s\n",
      "400:\tlearn: 0.6615514\ttest: 0.6683602\tbest: 0.6684557 (399)\ttotal: 14.9s\tremaining: 1m 36s\n",
      "500:\tlearn: 0.6650505\ttest: 0.6735283\tbest: 0.6736492 (495)\ttotal: 18.6s\tremaining: 1m 32s\n",
      "600:\tlearn: 0.6673825\ttest: 0.6767084\tbest: 0.6767084 (600)\ttotal: 22.2s\tremaining: 1m 28s\n",
      "700:\tlearn: 0.6695559\ttest: 0.6796888\tbest: 0.6797568 (697)\ttotal: 25.7s\tremaining: 1m 24s\n",
      "800:\tlearn: 0.6712951\ttest: 0.6808710\tbest: 0.6808954 (798)\ttotal: 29.3s\tremaining: 1m 20s\n",
      "900:\tlearn: 0.6726582\ttest: 0.6827903\tbest: 0.6827903 (900)\ttotal: 32.8s\tremaining: 1m 16s\n",
      "1000:\tlearn: 0.6738513\ttest: 0.6833992\tbest: 0.6835148 (996)\ttotal: 36.4s\tremaining: 1m 12s\n",
      "1100:\tlearn: 0.6750057\ttest: 0.6844875\tbest: 0.6844875 (1100)\ttotal: 40s\tremaining: 1m 9s\n",
      "1200:\tlearn: 0.6757339\ttest: 0.6847210\tbest: 0.6849940 (1126)\ttotal: 43.6s\tremaining: 1m 5s\n",
      "bestTest = 0.684994032\n",
      "bestIteration = 1126\n",
      "Shrink model to first 1127 iterations.\n",
      "==================================================\n",
      "2\n",
      "Learning rate set to 0.027144\n",
      "0:\tlearn: 0.6110204\ttest: 0.6043188\tbest: 0.6043188 (0)\ttotal: 44.2ms\tremaining: 2m 12s\n",
      "100:\tlearn: 0.6370443\ttest: 0.6408162\tbest: 0.6408162 (100)\ttotal: 3.8s\tremaining: 1m 49s\n",
      "200:\tlearn: 0.6490333\ttest: 0.6561362\tbest: 0.6561492 (199)\ttotal: 7.49s\tremaining: 1m 44s\n",
      "300:\tlearn: 0.6558050\ttest: 0.6663157\tbest: 0.6663733 (299)\ttotal: 11.2s\tremaining: 1m 40s\n",
      "400:\tlearn: 0.6606917\ttest: 0.6717042\tbest: 0.6717042 (400)\ttotal: 14.8s\tremaining: 1m 35s\n",
      "500:\tlearn: 0.6638934\ttest: 0.6749431\tbest: 0.6749552 (495)\ttotal: 18.4s\tremaining: 1m 31s\n",
      "600:\tlearn: 0.6670340\ttest: 0.6783211\tbest: 0.6783402 (599)\ttotal: 22s\tremaining: 1m 27s\n",
      "700:\tlearn: 0.6688923\ttest: 0.6800038\tbest: 0.6800038 (700)\ttotal: 25.5s\tremaining: 1m 23s\n",
      "800:\tlearn: 0.6705540\ttest: 0.6818563\tbest: 0.6818606 (799)\ttotal: 29.1s\tremaining: 1m 19s\n",
      "900:\tlearn: 0.6720081\ttest: 0.6835067\tbest: 0.6835708 (898)\ttotal: 32.7s\tremaining: 1m 16s\n",
      "1000:\tlearn: 0.6731337\ttest: 0.6848876\tbest: 0.6849498 (993)\ttotal: 36.3s\tremaining: 1m 12s\n",
      "1100:\tlearn: 0.6742953\ttest: 0.6857933\tbest: 0.6859241 (1097)\ttotal: 39.7s\tremaining: 1m 8s\n",
      "1200:\tlearn: 0.6752465\ttest: 0.6866913\tbest: 0.6867807 (1198)\ttotal: 43.3s\tremaining: 1m 4s\n",
      "1300:\tlearn: 0.6760398\ttest: 0.6869205\tbest: 0.6870708 (1282)\ttotal: 46.8s\tremaining: 1m 1s\n",
      "1400:\tlearn: 0.6768214\ttest: 0.6874470\tbest: 0.6874512 (1387)\ttotal: 50.4s\tremaining: 57.5s\n",
      "1500:\tlearn: 0.6777480\ttest: 0.6883546\tbest: 0.6885058 (1494)\ttotal: 53.9s\tremaining: 53.9s\n",
      "1600:\tlearn: 0.6784951\ttest: 0.6887133\tbest: 0.6887889 (1593)\ttotal: 57.5s\tremaining: 50.3s\n",
      "1700:\tlearn: 0.6792130\ttest: 0.6889914\tbest: 0.6891517 (1689)\ttotal: 1m 1s\tremaining: 46.7s\n",
      "bestTest = 0.6891517121\n",
      "bestIteration = 1689\n",
      "Shrink model to first 1690 iterations.\n",
      "==================================================\n",
      "3\n",
      "Learning rate set to 0.027144\n",
      "0:\tlearn: 0.6146135\ttest: 0.6137830\tbest: 0.6137830 (0)\ttotal: 41.8ms\tremaining: 2m 5s\n",
      "100:\tlearn: 0.6377915\ttest: 0.6389154\tbest: 0.6391661 (99)\ttotal: 3.82s\tremaining: 1m 49s\n",
      "200:\tlearn: 0.6506606\ttest: 0.6518199\tbest: 0.6518387 (199)\ttotal: 7.55s\tremaining: 1m 45s\n",
      "300:\tlearn: 0.6567895\ttest: 0.6601884\tbest: 0.6601884 (300)\ttotal: 11.3s\tremaining: 1m 40s\n",
      "400:\tlearn: 0.6617018\ttest: 0.6663028\tbest: 0.6664305 (399)\ttotal: 14.9s\tremaining: 1m 36s\n",
      "500:\tlearn: 0.6651410\ttest: 0.6706463\tbest: 0.6706463 (500)\ttotal: 18.6s\tremaining: 1m 32s\n",
      "600:\tlearn: 0.6675677\ttest: 0.6736979\tbest: 0.6737169 (599)\ttotal: 22.3s\tremaining: 1m 28s\n",
      "700:\tlearn: 0.6696905\ttest: 0.6760617\tbest: 0.6760932 (699)\ttotal: 25.8s\tremaining: 1m 24s\n",
      "800:\tlearn: 0.6716411\ttest: 0.6777998\tbest: 0.6778296 (798)\ttotal: 29.4s\tremaining: 1m 20s\n",
      "900:\tlearn: 0.6731181\ttest: 0.6792608\tbest: 0.6792861 (899)\ttotal: 33s\tremaining: 1m 16s\n",
      "1000:\tlearn: 0.6742772\ttest: 0.6807217\tbest: 0.6807656 (994)\ttotal: 36.5s\tremaining: 1m 12s\n",
      "1100:\tlearn: 0.6753558\ttest: 0.6814384\tbest: 0.6815349 (1094)\ttotal: 40.1s\tremaining: 1m 9s\n",
      "1200:\tlearn: 0.6764632\ttest: 0.6822324\tbest: 0.6822324 (1200)\ttotal: 43.7s\tremaining: 1m 5s\n",
      "1300:\tlearn: 0.6771171\ttest: 0.6824978\tbest: 0.6825655 (1289)\ttotal: 47.3s\tremaining: 1m 1s\n",
      "1400:\tlearn: 0.6778987\ttest: 0.6827442\tbest: 0.6828064 (1372)\ttotal: 50.8s\tremaining: 58s\n",
      "1500:\tlearn: 0.6786311\ttest: 0.6829960\tbest: 0.6829960 (1500)\ttotal: 54.3s\tremaining: 54.3s\n",
      "1600:\tlearn: 0.6791888\ttest: 0.6834223\tbest: 0.6834405 (1599)\ttotal: 57.9s\tremaining: 50.6s\n",
      "1700:\tlearn: 0.6799178\ttest: 0.6834041\tbest: 0.6838188 (1644)\ttotal: 1m 1s\tremaining: 47s\n",
      "bestTest = 0.6838188105\n",
      "bestIteration = 1644\n",
      "Shrink model to first 1645 iterations.\n",
      "==================================================\n",
      "4\n",
      "Learning rate set to 0.027144\n",
      "0:\tlearn: 0.6145395\ttest: 0.6142310\tbest: 0.6142310 (0)\ttotal: 40.4ms\tremaining: 2m 1s\n",
      "100:\tlearn: 0.6365789\ttest: 0.6365856\tbest: 0.6365856 (100)\ttotal: 3.81s\tremaining: 1m 49s\n",
      "200:\tlearn: 0.6499580\ttest: 0.6515546\tbest: 0.6515546 (200)\ttotal: 7.58s\tremaining: 1m 45s\n",
      "300:\tlearn: 0.6573410\ttest: 0.6615497\tbest: 0.6615497 (300)\ttotal: 11.3s\tremaining: 1m 41s\n",
      "400:\tlearn: 0.6616532\ttest: 0.6673715\tbest: 0.6674162 (399)\ttotal: 14.9s\tremaining: 1m 36s\n",
      "500:\tlearn: 0.6643879\ttest: 0.6708484\tbest: 0.6708484 (500)\ttotal: 18.6s\tremaining: 1m 32s\n",
      "600:\tlearn: 0.6671982\ttest: 0.6740174\tbest: 0.6741062 (599)\ttotal: 22.2s\tremaining: 1m 28s\n",
      "700:\tlearn: 0.6691445\ttest: 0.6757725\tbest: 0.6758112 (699)\ttotal: 25.8s\tremaining: 1m 24s\n",
      "800:\tlearn: 0.6709668\ttest: 0.6782193\tbest: 0.6782193 (800)\ttotal: 29.4s\tremaining: 1m 20s\n",
      "900:\tlearn: 0.6723175\ttest: 0.6796038\tbest: 0.6796189 (891)\ttotal: 33s\tremaining: 1m 16s\n",
      "1000:\tlearn: 0.6736557\ttest: 0.6808000\tbest: 0.6808576 (995)\ttotal: 36.6s\tremaining: 1m 13s\n",
      "1100:\tlearn: 0.6744547\ttest: 0.6820836\tbest: 0.6820962 (1099)\ttotal: 40.2s\tremaining: 1m 9s\n",
      "1200:\tlearn: 0.6754542\ttest: 0.6821175\tbest: 0.6822241 (1131)\ttotal: 43.7s\tremaining: 1m 5s\n",
      "1300:\tlearn: 0.6763327\ttest: 0.6829432\tbest: 0.6830300 (1296)\ttotal: 47.3s\tremaining: 1m 1s\n",
      "1400:\tlearn: 0.6772492\ttest: 0.6830948\tbest: 0.6833755 (1313)\ttotal: 51s\tremaining: 58.2s\n",
      "bestTest = 0.6833754577\n",
      "bestIteration = 1313\n",
      "Shrink model to first 1314 iterations.\n",
      "==================================================\n",
      "5\n",
      "Learning rate set to 0.027144\n",
      "0:\tlearn: 0.6041014\ttest: 0.6008977\tbest: 0.6008977 (0)\ttotal: 38.1ms\tremaining: 1m 54s\n",
      "100:\tlearn: 0.6387932\ttest: 0.6387774\tbest: 0.6387774 (100)\ttotal: 3.79s\tremaining: 1m 48s\n",
      "200:\tlearn: 0.6516323\ttest: 0.6547896\tbest: 0.6547896 (200)\ttotal: 7.5s\tremaining: 1m 44s\n",
      "300:\tlearn: 0.6587101\ttest: 0.6626948\tbest: 0.6626948 (300)\ttotal: 11.2s\tremaining: 1m 40s\n",
      "400:\tlearn: 0.6630506\ttest: 0.6662438\tbest: 0.6662760 (397)\ttotal: 14.8s\tremaining: 1m 35s\n",
      "500:\tlearn: 0.6661700\ttest: 0.6693671\tbest: 0.6695404 (494)\ttotal: 18.4s\tremaining: 1m 31s\n",
      "600:\tlearn: 0.6692006\ttest: 0.6734475\tbest: 0.6734475 (600)\ttotal: 22s\tremaining: 1m 27s\n",
      "700:\tlearn: 0.6709143\ttest: 0.6754864\tbest: 0.6754991 (696)\ttotal: 25.6s\tremaining: 1m 23s\n",
      "800:\tlearn: 0.6722889\ttest: 0.6768740\tbest: 0.6769701 (794)\ttotal: 29.2s\tremaining: 1m 20s\n",
      "900:\tlearn: 0.6739732\ttest: 0.6788663\tbest: 0.6788790 (899)\ttotal: 32.8s\tremaining: 1m 16s\n",
      "1000:\tlearn: 0.6752220\ttest: 0.6801954\tbest: 0.6803073 (996)\ttotal: 36.3s\tremaining: 1m 12s\n",
      "1100:\tlearn: 0.6761303\ttest: 0.6811094\tbest: 0.6811094 (1100)\ttotal: 39.8s\tremaining: 1m 8s\n",
      "1200:\tlearn: 0.6771195\ttest: 0.6817170\tbest: 0.6817973 (1199)\ttotal: 43.4s\tremaining: 1m 4s\n",
      "1300:\tlearn: 0.6781942\ttest: 0.6823224\tbest: 0.6823466 (1275)\ttotal: 46.9s\tremaining: 1m 1s\n",
      "1400:\tlearn: 0.6789985\ttest: 0.6825940\tbest: 0.6826748 (1345)\ttotal: 50.5s\tremaining: 57.6s\n",
      "1500:\tlearn: 0.6796817\ttest: 0.6827111\tbest: 0.6827247 (1498)\ttotal: 54s\tremaining: 54s\n",
      "1600:\tlearn: 0.6803309\ttest: 0.6832523\tbest: 0.6833703 (1581)\ttotal: 57.6s\tremaining: 50.3s\n",
      "1700:\tlearn: 0.6811059\ttest: 0.6834007\tbest: 0.6835241 (1696)\ttotal: 1m 1s\tremaining: 46.7s\n",
      "1800:\tlearn: 0.6816989\ttest: 0.6834863\tbest: 0.6836704 (1735)\ttotal: 1m 4s\tremaining: 43.1s\n",
      "bestTest = 0.6836704271\n",
      "bestIteration = 1735\n",
      "Shrink model to first 1736 iterations.\n",
      "EOT\n"
     ]
    }
   ],
   "source": [
    "#Train\n",
    "\n",
    "scores = []\n",
    "models = []\n",
    "epochs = 1\n",
    "\n",
    "for train, validation in cv.split(x_train):\n",
    "    print(\"=====\"*10)\n",
    "    print(epochs)\n",
    "    epochs += 1\n",
    "    preds = []\n",
    "\n",
    "    model = CatBoostClassifier(\n",
    "        iterations, random_state = SEED, task_type = \"GPU\", eval_metric = 'F1',\n",
    "        cat_features = cat_features, one_hot_max_size = 5\n",
    "    )\n",
    "\n",
    "    model.fit(\n",
    "        x_train.iloc[train], y_train[train],\n",
    "        eval_set = [(x_train.iloc[validation], y_train[validation])],\n",
    "        early_stopping_rounds = patience, #########################무엇?\n",
    "        verbose = 100 #################무엇?\n",
    "    )\n",
    "\n",
    "    models.append(model)\n",
    "    scores.append(model.get_best_score()['validation']['F1'])\n",
    "\n",
    "    if is_holdout:\n",
    "        break\n",
    "\n",
    "print(\"EOT\")"
   ]
  },
  {
   "cell_type": "code",
   "execution_count": 25,
   "metadata": {},
   "outputs": [
    {
     "name": "stdout",
     "output_type": "stream",
     "text": [
      "[0.6849940319885414, 0.6891517121100935, 0.683818810525005, 0.6833754576818474, 0.6836704271136886]\n"
     ]
    }
   ],
   "source": [
    "print(scores)"
   ]
  },
  {
   "cell_type": "code",
   "execution_count": 26,
   "metadata": {},
   "outputs": [
    {
     "name": "stdout",
     "output_type": "stream",
     "text": [
      "Index(['id_y', 'id', 'd_l_match_yn', 'contents_attribute_j_1',\n",
      "       'contents_attribute_h', 'd_m_match_yn',\n",
      "       'person_prefer_d_1_attribute_d_s', 'contents_attribute_d',\n",
      "       'contents_attribute_l', 'person_attribute_a_1'],\n",
      "      dtype='object')\n",
      "Index(['id_y', 'id', 'd_l_match_yn', 'contents_attribute_j_1',\n",
      "       'contents_attribute_h', 'd_m_match_yn',\n",
      "       'person_prefer_d_1_attribute_d_s', 'contents_attribute_d',\n",
      "       'contents_attribute_l', 'person_attribute_a_1'],\n",
      "      dtype='object')\n",
      "Index(['id_y', 'id', 'd_l_match_yn', 'contents_attribute_j_1', 'd_m_match_yn',\n",
      "       'contents_attribute_h', 'contents_attribute_d', 'contents_attribute_l',\n",
      "       'person_attribute_a_1', 'contents_attribute_h_attribute_h_p'],\n",
      "      dtype='object')\n",
      "Index(['id_y', 'id', 'd_l_match_yn', 'contents_attribute_j_1', 'd_m_match_yn',\n",
      "       'contents_attribute_h', 'person_prefer_d_1_attribute_d_s',\n",
      "       'contents_attribute_d', 'contents_attribute_l', 'person_attribute_a_1'],\n",
      "      dtype='object')\n",
      "Index(['id_y', 'id', 'd_l_match_yn', 'contents_attribute_j_1',\n",
      "       'contents_attribute_h', 'contents_attribute_d', 'd_m_match_yn',\n",
      "       'person_prefer_d_1_attribute_d_s', 'contents_attribute_l',\n",
      "       'person_attribute_a_1'],\n",
      "      dtype='object')\n"
     ]
    }
   ],
   "source": [
    "#feature importance\n",
    "\n",
    "for model in models:\n",
    "    idx = model.get_feature_importance().argsort()[-10:][::-1]\n",
    "    print(x_train.columns[idx])\n",
    "\n",
    "\n",
    "### id_y  = contetent_rn을 count로 변환한 값\n",
    "### id = person_rn을 count로 변환한 값"
   ]
  },
  {
   "cell_type": "code",
   "execution_count": 27,
   "metadata": {},
   "outputs": [
    {
     "name": "stdout",
     "output_type": "stream",
     "text": [
      "0.35 : 0.7140625542640223 \n",
      "0.37 : 0.7144404159888407 \n",
      "0.39 : 0.7145058469060427 \n",
      "0.41000000000000003 : 0.7142191952051278 \n",
      "0.43000000000000005 : 0.7134075822169105 \n",
      "0.45000000000000007 : 0.7120781368671454 \n",
      "0.4700000000000001 : 0.7101648414017988 \n",
      "0.4900000000000001 : 0.7076506378172029 \n",
      "0.5100000000000001 : 0.7043841629274894 \n",
      "0.5300000000000001 : 0.7003566996379031 \n",
      "0.5500000000000002 : 0.6953815497456063 \n"
     ]
    }
   ],
   "source": [
    "#Find Best Threshold\n",
    "\n",
    "pred_list = []\n",
    "scores = []\n",
    "\n",
    "thresholds = np.arange(0.35, 0.55, 0.02)\n",
    "for threshold in thresholds:\n",
    "    for i, (train, validation) in enumerate(cv.split(x_train)):\n",
    "        pred = models[i].predict_proba(x_train.iloc[validation])[:,1]\n",
    "        pred = np.where(pred >= threshold, 1, 0)\n",
    "        score = f1_score(y_train[validation], pred)\n",
    "        scores.append(score)\n",
    "        pred = models[i].predict_proba(x_test)[:,1]\n",
    "        pred_list.append(pred)\n",
    "    #print(scores)\n",
    "    print(f\"{threshold} : {np.mean(scores)} \")"
   ]
  },
  {
   "cell_type": "code",
   "execution_count": 28,
   "metadata": {},
   "outputs": [],
   "source": [
    "threshold = 0.4\n",
    "pred = np.mean(pred_list, axis = 0)\n",
    "pred = np.where(pred >= threshold, 1, 0)"
   ]
  },
  {
   "cell_type": "code",
   "execution_count": 29,
   "metadata": {},
   "outputs": [
    {
     "data": {
      "text/html": [
       "<div>\n",
       "<style scoped>\n",
       "    .dataframe tbody tr th:only-of-type {\n",
       "        vertical-align: middle;\n",
       "    }\n",
       "\n",
       "    .dataframe tbody tr th {\n",
       "        vertical-align: top;\n",
       "    }\n",
       "\n",
       "    .dataframe thead th {\n",
       "        text-align: right;\n",
       "    }\n",
       "</style>\n",
       "<table border=\"1\" class=\"dataframe\">\n",
       "  <thead>\n",
       "    <tr style=\"text-align: right;\">\n",
       "      <th></th>\n",
       "      <th>id</th>\n",
       "      <th>target</th>\n",
       "    </tr>\n",
       "  </thead>\n",
       "  <tbody>\n",
       "    <tr>\n",
       "      <th>0</th>\n",
       "      <td>0</td>\n",
       "      <td>0</td>\n",
       "    </tr>\n",
       "    <tr>\n",
       "      <th>1</th>\n",
       "      <td>1</td>\n",
       "      <td>0</td>\n",
       "    </tr>\n",
       "    <tr>\n",
       "      <th>2</th>\n",
       "      <td>2</td>\n",
       "      <td>1</td>\n",
       "    </tr>\n",
       "    <tr>\n",
       "      <th>3</th>\n",
       "      <td>3</td>\n",
       "      <td>0</td>\n",
       "    </tr>\n",
       "    <tr>\n",
       "      <th>4</th>\n",
       "      <td>4</td>\n",
       "      <td>1</td>\n",
       "    </tr>\n",
       "    <tr>\n",
       "      <th>...</th>\n",
       "      <td>...</td>\n",
       "      <td>...</td>\n",
       "    </tr>\n",
       "    <tr>\n",
       "      <th>46399</th>\n",
       "      <td>46399</td>\n",
       "      <td>1</td>\n",
       "    </tr>\n",
       "    <tr>\n",
       "      <th>46400</th>\n",
       "      <td>46400</td>\n",
       "      <td>1</td>\n",
       "    </tr>\n",
       "    <tr>\n",
       "      <th>46401</th>\n",
       "      <td>46401</td>\n",
       "      <td>1</td>\n",
       "    </tr>\n",
       "    <tr>\n",
       "      <th>46402</th>\n",
       "      <td>46402</td>\n",
       "      <td>1</td>\n",
       "    </tr>\n",
       "    <tr>\n",
       "      <th>46403</th>\n",
       "      <td>46403</td>\n",
       "      <td>1</td>\n",
       "    </tr>\n",
       "  </tbody>\n",
       "</table>\n",
       "<p>46404 rows × 2 columns</p>\n",
       "</div>"
      ],
      "text/plain": [
       "          id  target\n",
       "0          0       0\n",
       "1          1       0\n",
       "2          2       1\n",
       "3          3       0\n",
       "4          4       1\n",
       "...      ...     ...\n",
       "46399  46399       1\n",
       "46400  46400       1\n",
       "46401  46401       1\n",
       "46402  46402       1\n",
       "46403  46403       1\n",
       "\n",
       "[46404 rows x 2 columns]"
      ]
     },
     "execution_count": 29,
     "metadata": {},
     "output_type": "execute_result"
    }
   ],
   "source": [
    "sample_submission = pd.read_csv('/home/mglee/VSCODE/Dacon/Jobcare_data/sample_submission.csv')\n",
    "sample_submission['target'] = pred\n",
    "sample_submission"
   ]
  },
  {
   "cell_type": "code",
   "execution_count": 30,
   "metadata": {},
   "outputs": [],
   "source": [
    "sample_submission.to_csv(\"/home/mglee/VSCODE/Dacon/Jobcare_data/prediction_0117.csv\", index=False)"
   ]
  }
 ],
 "metadata": {
  "interpreter": {
   "hash": "c6f34507fa43ba317958b721fa8398d2051b96ef3f3b32ff98429c26ce06f8cf"
  },
  "kernelspec": {
   "display_name": "Python 3.8.5 64-bit ('svmglee': conda)",
   "language": "python",
   "name": "python3"
  },
  "language_info": {
   "codemirror_mode": {
    "name": "ipython",
    "version": 3
   },
   "file_extension": ".py",
   "mimetype": "text/x-python",
   "name": "python",
   "nbconvert_exporter": "python",
   "pygments_lexer": "ipython3",
   "version": "3.8.5"
  },
  "orig_nbformat": 4
 },
 "nbformat": 4,
 "nbformat_minor": 2
}
