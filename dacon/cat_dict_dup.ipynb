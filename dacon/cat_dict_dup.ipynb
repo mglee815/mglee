{
 "cells": [
  {
   "cell_type": "code",
   "execution_count": 24,
   "metadata": {},
   "outputs": [],
   "source": [
    "import os\n",
    "import sys\n",
    "import platform\n",
    "import random\n",
    "import math\n",
    "from typing import List, Dict, Tuple\n",
    "from datetime import datetime\n",
    "\n",
    "import pandas as pd\n",
    "import numpy as np\n",
    "\n",
    "import sklearn\n",
    "from sklearn.model_selection import StratifiedKFold, KFold\n",
    "from sklearn.metrics import f1_score\n",
    "\n",
    "from catboost import Pool, CatBoostClassifier"
   ]
  },
  {
   "cell_type": "code",
   "execution_count": 25,
   "metadata": {},
   "outputs": [
    {
     "name": "stdout",
     "output_type": "stream",
     "text": [
      "- os: Linux-5.4.0-91-generic-x86_64-with-glibc2.10\n",
      "- python: 3.8.5 (default, Sep  4 2020, 07:30:14) \n",
      "[GCC 7.3.0]\n",
      "- pandas: 1.1.3\n",
      "- numpy: 1.19.2\n",
      "- sklearn: 0.23.2\n"
     ]
    }
   ],
   "source": [
    "print(f\"- os: {platform.platform()}\")\n",
    "print(f\"- python: {sys.version}\")\n",
    "print(f\"- pandas: {pd.__version__}\")\n",
    "print(f\"- numpy: {np.__version__}\")\n",
    "print(f\"- sklearn: {sklearn.__version__}\")"
   ]
  },
  {
   "cell_type": "code",
   "execution_count": 26,
   "metadata": {},
   "outputs": [
    {
     "name": "stdout",
     "output_type": "stream",
     "text": [
      "(501951, 35) (46404, 34)\n"
     ]
    }
   ],
   "source": [
    "train_df = pd.read_csv(\"/home/mglee/VSCODE/Dacon/Jobcare_data/train.csv\")\n",
    "test_df = pd.read_csv(\"/home/mglee/VSCODE/Dacon/Jobcare_data/test.csv\")\n",
    "\n",
    "code_d = pd.read_csv(\"/home/mglee/VSCODE/Dacon/Jobcare_data/속성_D_코드.csv\")\n",
    "code_h = pd.read_csv(\"/home/mglee/VSCODE/Dacon/Jobcare_data/속성_H_코드.csv\").iloc[:,:-1]\n",
    "code_l = pd.read_csv(\"/home/mglee/VSCODE/Dacon/Jobcare_data/속성_L_코드.csv\")\n",
    "\n",
    "print(train_df.shape, test_df.shape)"
   ]
  },
  {
   "cell_type": "code",
   "execution_count": 27,
   "metadata": {},
   "outputs": [],
   "source": [
    "code_d.columns= [\"attribute_d\",\"attribute_d_d\",\"attribute_d_s\",\"attribute_d_m\",\"attribute_d_l\"]\n",
    "code_h.columns= [\"attribute_h\", \"attribute_h_p\"]\n",
    "code_l.columns= [\"attribute_l\",\"attribute_l_d\",\"attribute_l_s\",\"attribute_l_m\",\"attribute_l_l\"]"
   ]
  },
  {
   "cell_type": "code",
   "execution_count": 28,
   "metadata": {},
   "outputs": [],
   "source": [
    "def Merge_codes(df:pd.DataFrame, df_code:pd.DataFrame, col:str) -> pd.DataFrame:\n",
    "    df = df.copy()\n",
    "    df_code = df_code.copy()\n",
    "    df_code = df_code.add_prefix(f\"{col}_\")\n",
    "    df_code.columns.values[0] = col\n",
    "    return pd.merge(df, df_code, how = 'left', on = col)"
   ]
  },
  {
   "cell_type": "markdown",
   "metadata": {},
   "source": [
    "### Feature_engineering과 Feature_enginerring2가 핵심적인 변화\n",
    "\n",
    "1. Feature_engineering 함수를 활성화 할 경우\n",
    "contents_rn이라는 변수를 제외하는 기존 모델과 다르게 변수로 사용함\n",
    "다만 그대로 사용하지 않고\n",
    "contents_rn을 몇번씩 등장했는지 카운팅해서 그 값을 변수로 사용\n",
    "\n",
    "2. Feature_engineering2 함수를 활성화 할 경우\n",
    "contents_rn과 같은 방식으로 person_rn변수를 전처리함\n",
    "기존 모델은 person_rn 변수를 통으로 사용했음\n"
   ]
  },
  {
   "cell_type": "code",
   "execution_count": 29,
   "metadata": {},
   "outputs": [],
   "source": [
    "## person_rn도 count해서 사용 (overfitting 방지)\n",
    "\n",
    "def Feature_engineering2(df):\n",
    "    content_dict = {}\n",
    "    person_dict = {}\n",
    "    for id in df['contents_rn']:\n",
    "        try:\n",
    "            content_dict[id] = content_dict[id] + 1\n",
    "        except:\n",
    "            content_dict[id] = 1\n",
    "\n",
    "    for id in df['person_rn']:\n",
    "        try:\n",
    "            person_dict[id] = person_dict[id] + 1\n",
    "        except:\n",
    "            person_dict[id] = 1\n",
    "    return content_dict, person_dict"
   ]
  },
  {
   "cell_type": "code",
   "execution_count": 30,
   "metadata": {},
   "outputs": [],
   "source": [
    "def Date_pre(data):\n",
    "    data['contents_open_dt'] = data['contents_open_dt'].astype('str')\n",
    "    DATE = data['contents_open_dt'].apply(lambda x: datetime.strptime(x, '%Y-%m-%d %H:%M:%S'))\n",
    "    \n",
    "    DATE = pd.DataFrame(DATE)\n",
    "    DATE = DATE.rename(columns = {'contents_open_dt': 'date'})\n",
    "    \n",
    "    DATE['Y'] = DATE['date'].apply(lambda x: x.timetuple()[0])\n",
    "    DATE['M'] = DATE['date'].apply(lambda x: x.timetuple()[1])\n",
    "    DATE['D'] = DATE['date'].apply(lambda x: x.timetuple()[2])\n",
    "    DATE['id'] = data['id']\n",
    "    \n",
    "    data = data.merge(DATE, on = 'id', how = 'left')\n",
    "    data = data.drop(columns = ['date', 'contents_open_dt'])\n",
    "    return data"
   ]
  },
  {
   "cell_type": "code",
   "execution_count": 43,
   "metadata": {},
   "outputs": [],
   "source": [
    "def Preprocess_data(\n",
    "    df:pd.DataFrame, is_train:bool = True, cols_merge:List[Tuple[str, pd.DataFrame]] = [], cols_equi:List[Tuple[str, str]] = [],\n",
    "    cols_drop:List[str] = ['id', 'person_prefer_f', 'person_perfer_g'], contents_dict = {}, person_dict = {}) -> Tuple[pd.DataFrame, np.ndarray]:\n",
    "\n",
    "    df = df.copy()\n",
    "\n",
    "    #기존과의 차이점\n",
    "\n",
    "    df = Date_pre(df)\n",
    "\n",
    "    if is_train:\n",
    "        contents_dict, person_dict = Feature_engineering2(df)\n",
    "\n",
    "    contents_lst = []\n",
    "    for id in df['contents_rn']:\n",
    "        try:\n",
    "            freq = person_dict[id]\n",
    "        except:\n",
    "            freq = 1 \n",
    "        contents_lst.append(freq)\n",
    "    df['contents_freq'] = contents_lst\n",
    "\n",
    "    person_lst = []\n",
    "    for id in df['person_rn']:\n",
    "        try:\n",
    "            freq = person_dict[id]\n",
    "        except:\n",
    "            freq = 1 \n",
    "        person_lst.append(freq)\n",
    "    df['person_freq'] = person_lst\n",
    "\n",
    "    y_data = None\n",
    "    if is_train:\n",
    "        y_data = df['target'].to_numpy()\n",
    "        df = df.drop(columns='target')\n",
    "\n",
    "    for col, df_code in cols_merge:\n",
    "        df = Merge_codes(df, df_code, col)\n",
    "    \n",
    "    cols = df.select_dtypes(bool).columns.tolist()\n",
    "    df[cols] = df[cols].astype(int)\n",
    "\n",
    "    for col1, col2 in cols_equi:\n",
    "        df[f\"{col1}_{col2}\"] = (df[col1] == df[col2]).astype(int)\n",
    "    df = df.drop(columns= cols_drop)\n",
    "    \n",
    "    \n",
    "    return (df, y_data, contents_dict, person_dict)"
   ]
  },
  {
   "cell_type": "code",
   "execution_count": 36,
   "metadata": {},
   "outputs": [],
   "source": [
    "cols_merge = [\n",
    "              (\"person_prefer_d_1\" , code_d),\n",
    "              (\"person_prefer_d_2\" , code_d),\n",
    "              (\"person_prefer_d_3\" , code_d),\n",
    "              (\"contents_attribute_d\" , code_d),\n",
    "              (\"person_prefer_h_1\" , code_h),\n",
    "              (\"person_prefer_h_2\" , code_h),\n",
    "              (\"person_prefer_h_3\" , code_h),\n",
    "              (\"contents_attribute_h\" , code_h),\n",
    "              (\"contents_attribute_l\" , code_l),\n",
    "]\n",
    "\n",
    "# 회원 속성과 콘텐츠 속성의 동일한 코드 여부에 대한 컬럼명 리스트\n",
    "cols_equi = [\n",
    "\n",
    "    (\"contents_attribute_c\",\"person_prefer_c\"),\n",
    "    (\"contents_attribute_e\",\"person_prefer_e\"),\n",
    "\n",
    "    (\"person_prefer_d_2_attribute_d_s\" , \"contents_attribute_d_attribute_d_s\"),\n",
    "    (\"person_prefer_d_2_attribute_d_m\" , \"contents_attribute_d_attribute_d_m\"),\n",
    "    (\"person_prefer_d_2_attribute_d_l\" , \"contents_attribute_d_attribute_d_l\"),\n",
    "    (\"person_prefer_d_3_attribute_d_s\" , \"contents_attribute_d_attribute_d_s\"),\n",
    "    (\"person_prefer_d_3_attribute_d_m\" , \"contents_attribute_d_attribute_d_m\"),\n",
    "    (\"person_prefer_d_3_attribute_d_l\" , \"contents_attribute_d_attribute_d_l\"),\n",
    "\n",
    "    (\"person_prefer_h_1_attribute_h_p\" , \"contents_attribute_h_attribute_h_p\"),\n",
    "    (\"person_prefer_h_2_attribute_h_p\" , \"contents_attribute_h_attribute_h_p\"),\n",
    "    (\"person_prefer_h_3_attribute_h_p\" , \"contents_attribute_h_attribute_h_p\"),\n",
    "\n",
    "]\n",
    "#########################################################################################################\n",
    "#######################앞에서 선택한 모델 학습법에 따라서 3개의 line중 적합한 것을 주석 해제하여 사용####################\n",
    "########################################################################################################\n",
    "\n",
    "# 학습에 필요없는 컬럼 리스트\n",
    "#cols_drop = [\"id_x\",\"person_prefer_f\",\"person_prefer_g\", \"contents_rn\"] #FE 사용할 경우\n",
    "#cols_drop = [\"id\",\"person_prefer_f\",\"person_prefer_g\"] #content_rn을 통으로 넣을 경우\n",
    "cols_drop = [\"id\", \"person_prefer_f\",\"person_prefer_g\", \"person_rn\", \"contents_rn\"] #FE2를 사용할 경우"
   ]
  },
  {
   "cell_type": "code",
   "execution_count": 42,
   "metadata": {},
   "outputs": [
    {
     "name": "stdout",
     "output_type": "stream",
     "text": [
      "contents_attribute_c person_prefer_c\n",
      "contents_attribute_e person_prefer_e\n",
      "person_prefer_d_2_attribute_d_s contents_attribute_d_attribute_d_s\n",
      "person_prefer_d_2_attribute_d_m contents_attribute_d_attribute_d_m\n",
      "person_prefer_d_2_attribute_d_l contents_attribute_d_attribute_d_l\n",
      "person_prefer_d_3_attribute_d_s contents_attribute_d_attribute_d_s\n",
      "person_prefer_d_3_attribute_d_m contents_attribute_d_attribute_d_m\n",
      "person_prefer_d_3_attribute_d_l contents_attribute_d_attribute_d_l\n",
      "person_prefer_h_1_attribute_h_p contents_attribute_h_attribute_h_p\n",
      "person_prefer_h_2_attribute_h_p contents_attribute_h_attribute_h_p\n",
      "person_prefer_h_3_attribute_h_p contents_attribute_h_attribute_h_p\n",
      "contents_attribute_c person_prefer_c\n",
      "contents_attribute_e person_prefer_e\n",
      "person_prefer_d_2_attribute_d_s contents_attribute_d_attribute_d_s\n",
      "person_prefer_d_2_attribute_d_m contents_attribute_d_attribute_d_m\n",
      "person_prefer_d_2_attribute_d_l contents_attribute_d_attribute_d_l\n",
      "person_prefer_d_3_attribute_d_s contents_attribute_d_attribute_d_s\n",
      "person_prefer_d_3_attribute_d_m contents_attribute_d_attribute_d_m\n",
      "person_prefer_d_3_attribute_d_l contents_attribute_d_attribute_d_l\n",
      "person_prefer_h_1_attribute_h_p contents_attribute_h_attribute_h_p\n",
      "person_prefer_h_2_attribute_h_p contents_attribute_h_attribute_h_p\n",
      "person_prefer_h_3_attribute_h_p contents_attribute_h_attribute_h_p\n"
     ]
    },
    {
     "data": {
      "text/plain": [
       "((501951, 68), (501951,), (46404, 68))"
      ]
     },
     "execution_count": 42,
     "metadata": {},
     "output_type": "execute_result"
    }
   ],
   "source": [
    "x_train, y_train, contents_dict, person_dict = Preprocess_data(train_df, cols_merge = cols_merge , cols_equi= cols_equi , cols_drop = cols_drop)\n",
    "x_test, _, _, _ = Preprocess_data(test_df,is_train = False, cols_merge = cols_merge , cols_equi= cols_equi  , cols_drop = cols_drop, contents_dict = contents_dict ,person_dict = person_dict)\n",
    "x_train.shape , y_train.shape , x_test.shape"
   ]
  },
  {
   "cell_type": "code",
   "execution_count": 44,
   "metadata": {},
   "outputs": [],
   "source": [
    "cat_features = x_train.columns[x_train.nunique() > 2].tolist()"
   ]
  },
  {
   "cell_type": "code",
   "execution_count": 45,
   "metadata": {},
   "outputs": [],
   "source": [
    "is_holdout = False\n",
    "n_splits = 5\n",
    "iterations = 3000\n",
    "patience = 100\n",
    "SEED = 42\n",
    "\n",
    "cv = KFold(n_splits = n_splits, shuffle = True, random_state=SEED)"
   ]
  },
  {
   "cell_type": "code",
   "execution_count": 46,
   "metadata": {},
   "outputs": [
    {
     "name": "stdout",
     "output_type": "stream",
     "text": [
      "==================================================\n",
      "1\n",
      "Learning rate set to 0.027144\n",
      "0:\tlearn: 0.6036887\ttest: 0.6071074\tbest: 0.6071074 (0)\ttotal: 95.8ms\tremaining: 4m 47s\n",
      "100:\tlearn: 0.6434502\ttest: 0.6558652\tbest: 0.6558652 (100)\ttotal: 14.6s\tremaining: 6m 59s\n",
      "200:\tlearn: 0.6524004\ttest: 0.6677098\tbest: 0.6677773 (197)\ttotal: 29.1s\tremaining: 6m 44s\n",
      "300:\tlearn: 0.6571145\ttest: 0.6746992\tbest: 0.6747271 (297)\ttotal: 43s\tremaining: 6m 25s\n",
      "400:\tlearn: 0.6608149\ttest: 0.6782788\tbest: 0.6783282 (399)\ttotal: 57s\tremaining: 6m 9s\n",
      "500:\tlearn: 0.6637137\ttest: 0.6797272\tbest: 0.6797272 (500)\ttotal: 1m 10s\tremaining: 5m 50s\n",
      "600:\tlearn: 0.6666587\ttest: 0.6794203\tbest: 0.6800190 (513)\ttotal: 1m 23s\tremaining: 5m 32s\n",
      "bestTest = 0.6800190393\n",
      "bestIteration = 513\n",
      "Shrink model to first 514 iterations.\n",
      "==================================================\n",
      "2\n",
      "Learning rate set to 0.027144\n",
      "0:\tlearn: 0.6131835\ttest: 0.6153311\tbest: 0.6153311 (0)\ttotal: 85.7ms\tremaining: 4m 17s\n",
      "100:\tlearn: 0.6422923\ttest: 0.6554533\tbest: 0.6554533 (100)\ttotal: 14.6s\tremaining: 6m 58s\n",
      "200:\tlearn: 0.6527827\ttest: 0.6680749\tbest: 0.6680749 (200)\ttotal: 28s\tremaining: 6m 29s\n",
      "300:\tlearn: 0.6582097\ttest: 0.6750375\tbest: 0.6750375 (300)\ttotal: 41.8s\tremaining: 6m 15s\n",
      "400:\tlearn: 0.6617770\ttest: 0.6779693\tbest: 0.6780027 (399)\ttotal: 55s\tremaining: 5m 56s\n",
      "500:\tlearn: 0.6642315\ttest: 0.6794366\tbest: 0.6795629 (495)\ttotal: 1m 8s\tremaining: 5m 41s\n",
      "600:\tlearn: 0.6671810\ttest: 0.6803889\tbest: 0.6807311 (595)\ttotal: 1m 22s\tremaining: 5m 29s\n",
      "700:\tlearn: 0.6693076\ttest: 0.6815864\tbest: 0.6815864 (700)\ttotal: 1m 34s\tremaining: 5m 11s\n",
      "800:\tlearn: 0.6707915\ttest: 0.6820901\tbest: 0.6821453 (789)\ttotal: 1m 48s\tremaining: 4m 57s\n",
      "900:\tlearn: 0.6720636\ttest: 0.6820997\tbest: 0.6824481 (836)\ttotal: 2m\tremaining: 4m 40s\n",
      "bestTest = 0.6824480808\n",
      "bestIteration = 836\n",
      "Shrink model to first 837 iterations.\n",
      "==================================================\n",
      "3\n",
      "Learning rate set to 0.027144\n",
      "0:\tlearn: 0.6485156\ttest: 0.6513858\tbest: 0.6513858 (0)\ttotal: 85.3ms\tremaining: 4m 15s\n",
      "100:\tlearn: 0.6449106\ttest: 0.6547084\tbest: 0.6548351 (94)\ttotal: 14.3s\tremaining: 6m 50s\n",
      "200:\tlearn: 0.6540119\ttest: 0.6673101\tbest: 0.6673101 (200)\ttotal: 28.1s\tremaining: 6m 30s\n",
      "300:\tlearn: 0.6594415\ttest: 0.6742579\tbest: 0.6742579 (300)\ttotal: 42.3s\tremaining: 6m 19s\n",
      "400:\tlearn: 0.6629677\ttest: 0.6768485\tbest: 0.6769702 (398)\ttotal: 55s\tremaining: 5m 56s\n",
      "500:\tlearn: 0.6657760\ttest: 0.6782359\tbest: 0.6782605 (499)\ttotal: 1m 8s\tremaining: 5m 41s\n",
      "600:\tlearn: 0.6680308\ttest: 0.6787833\tbest: 0.6789912 (589)\ttotal: 1m 22s\tremaining: 5m 28s\n",
      "700:\tlearn: 0.6701907\ttest: 0.6799120\tbest: 0.6799861 (666)\ttotal: 1m 36s\tremaining: 5m 14s\n",
      "800:\tlearn: 0.6716202\ttest: 0.6799256\tbest: 0.6803307 (773)\ttotal: 1m 48s\tremaining: 4m 58s\n",
      "900:\tlearn: 0.6730905\ttest: 0.6801895\tbest: 0.6803930 (878)\ttotal: 2m 1s\tremaining: 4m 43s\n",
      "1000:\tlearn: 0.6741733\ttest: 0.6805815\tbest: 0.6806565 (996)\ttotal: 2m 13s\tremaining: 4m 27s\n",
      "1100:\tlearn: 0.6750661\ttest: 0.6806054\tbest: 0.6807524 (1068)\ttotal: 2m 26s\tremaining: 4m 12s\n",
      "bestTest = 0.6807524276\n",
      "bestIteration = 1068\n",
      "Shrink model to first 1069 iterations.\n",
      "==================================================\n",
      "4\n",
      "Learning rate set to 0.027144\n",
      "0:\tlearn: 0.6107413\ttest: 0.6094669\tbest: 0.6094669 (0)\ttotal: 160ms\tremaining: 8m\n",
      "100:\tlearn: 0.6425685\ttest: 0.6480110\tbest: 0.6480110 (100)\ttotal: 4.28s\tremaining: 2m 2s\n",
      "200:\tlearn: 0.6530617\ttest: 0.6628770\tbest: 0.6629892 (198)\ttotal: 7.98s\tremaining: 1m 51s\n",
      "300:\tlearn: 0.6586863\ttest: 0.6689957\tbest: 0.6692426 (298)\ttotal: 11.6s\tremaining: 1m 43s\n",
      "400:\tlearn: 0.6625313\ttest: 0.6729542\tbest: 0.6732285 (392)\ttotal: 18s\tremaining: 1m 56s\n",
      "500:\tlearn: 0.6650411\ttest: 0.6743193\tbest: 0.6743745 (463)\ttotal: 30.9s\tremaining: 2m 34s\n",
      "600:\tlearn: 0.6675528\ttest: 0.6752109\tbest: 0.6752358 (599)\ttotal: 43.1s\tremaining: 2m 51s\n",
      "700:\tlearn: 0.6697792\ttest: 0.6755793\tbest: 0.6757393 (654)\ttotal: 55.4s\tremaining: 3m 1s\n",
      "bestTest = 0.6757392953\n",
      "bestIteration = 654\n",
      "Shrink model to first 655 iterations.\n",
      "==================================================\n",
      "5\n",
      "Learning rate set to 0.027144\n",
      "0:\tlearn: 0.6240394\ttest: 0.6212563\tbest: 0.6212563 (0)\ttotal: 134ms\tremaining: 6m 42s\n",
      "100:\tlearn: 0.6442744\ttest: 0.6496001\tbest: 0.6496001 (100)\ttotal: 13.7s\tremaining: 6m 32s\n",
      "200:\tlearn: 0.6546590\ttest: 0.6648914\tbest: 0.6648914 (200)\ttotal: 26.6s\tremaining: 6m 10s\n",
      "300:\tlearn: 0.6602650\ttest: 0.6688985\tbest: 0.6690222 (295)\ttotal: 39.8s\tremaining: 5m 57s\n",
      "400:\tlearn: 0.6635795\ttest: 0.6706017\tbest: 0.6707057 (393)\ttotal: 52s\tremaining: 5m 36s\n",
      "500:\tlearn: 0.6666966\ttest: 0.6731968\tbest: 0.6734655 (498)\ttotal: 1m 3s\tremaining: 5m 18s\n",
      "600:\tlearn: 0.6693550\ttest: 0.6741180\tbest: 0.6741180 (600)\ttotal: 1m 14s\tremaining: 4m 58s\n",
      "700:\tlearn: 0.6710174\ttest: 0.6740482\tbest: 0.6742545 (647)\ttotal: 1m 26s\tremaining: 4m 42s\n",
      "800:\tlearn: 0.6727811\ttest: 0.6750935\tbest: 0.6752038 (771)\ttotal: 1m 37s\tremaining: 4m 26s\n",
      "900:\tlearn: 0.6743821\ttest: 0.6753504\tbest: 0.6754720 (891)\ttotal: 1m 48s\tremaining: 4m 12s\n",
      "1000:\tlearn: 0.6756255\ttest: 0.6754732\tbest: 0.6758724 (971)\ttotal: 1m 59s\tremaining: 3m 59s\n",
      "bestTest = 0.6758724289\n",
      "bestIteration = 971\n",
      "Shrink model to first 972 iterations.\n",
      "EOT\n"
     ]
    }
   ],
   "source": [
    "#Train\n",
    "\n",
    "scores = []\n",
    "models = []\n",
    "epochs = 1\n",
    "\n",
    "for train, validation in cv.split(x_train):\n",
    "    print(\"=====\"*10)\n",
    "    print(epochs)\n",
    "    epochs += 1\n",
    "    preds = []\n",
    "\n",
    "    model = CatBoostClassifier(\n",
    "        iterations, random_state = SEED, task_type = \"GPU\", eval_metric = 'F1',\n",
    "        cat_features = cat_features, one_hot_max_size = 5\n",
    "    )\n",
    "\n",
    "    model.fit(\n",
    "        x_train.iloc[train], y_train[train],\n",
    "        eval_set = [(x_train.iloc[validation], y_train[validation])],\n",
    "        early_stopping_rounds = patience, #########################무엇?\n",
    "        verbose = 100 #################무엇?\n",
    "    )\n",
    "\n",
    "    models.append(model)\n",
    "    scores.append(model.get_best_score()['validation']['F1'])\n",
    "\n",
    "    if is_holdout:\n",
    "        break\n",
    "\n",
    "print(\"EOT\")"
   ]
  },
  {
   "cell_type": "code",
   "execution_count": 47,
   "metadata": {},
   "outputs": [
    {
     "name": "stdout",
     "output_type": "stream",
     "text": [
      "[0.6800190392638151, 0.6824480807927407, 0.6807524276475189, 0.6757392953464658, 0.6758724289345968]\n"
     ]
    }
   ],
   "source": [
    "print(scores)"
   ]
  },
  {
   "cell_type": "code",
   "execution_count": null,
   "metadata": {},
   "outputs": [],
   "source": [
    "############################여기까지 수정했음"
   ]
  },
  {
   "cell_type": "code",
   "execution_count": 19,
   "metadata": {},
   "outputs": [
    {
     "name": "stdout",
     "output_type": "stream",
     "text": [
      "Index(['id_y', 'id', 'd_l_match_yn', 'contents_attribute_j_1',\n",
      "       'contents_attribute_h', 'd_m_match_yn',\n",
      "       'person_prefer_d_1_attribute_d_s', 'contents_attribute_d',\n",
      "       'contents_attribute_l', 'person_attribute_a_1'],\n",
      "      dtype='object')\n",
      "Index(['id_y', 'id', 'd_l_match_yn', 'contents_attribute_j_1',\n",
      "       'contents_attribute_h', 'd_m_match_yn',\n",
      "       'person_prefer_d_1_attribute_d_s', 'contents_attribute_d',\n",
      "       'contents_attribute_l', 'person_attribute_a_1'],\n",
      "      dtype='object')\n",
      "Index(['id_y', 'id', 'd_l_match_yn', 'contents_attribute_j_1',\n",
      "       'contents_attribute_h', 'd_m_match_yn', 'contents_attribute_d',\n",
      "       'contents_attribute_l', 'person_attribute_a_1',\n",
      "       'contents_attribute_h_attribute_h_p'],\n",
      "      dtype='object')\n",
      "Index(['id_y', 'id', 'd_l_match_yn', 'contents_attribute_j_1',\n",
      "       'contents_attribute_h', 'd_m_match_yn',\n",
      "       'person_prefer_d_1_attribute_d_s', 'contents_attribute_d',\n",
      "       'contents_attribute_l', 'person_attribute_a_1'],\n",
      "      dtype='object')\n",
      "Index(['id_y', 'id', 'd_l_match_yn', 'contents_attribute_j_1',\n",
      "       'contents_attribute_h', 'contents_attribute_d', 'd_m_match_yn',\n",
      "       'person_prefer_d_1_attribute_d_s', 'person_attribute_a_1',\n",
      "       'contents_attribute_l'],\n",
      "      dtype='object')\n"
     ]
    }
   ],
   "source": [
    "#feature importance\n",
    "\n",
    "for model in models:\n",
    "    idx = model.get_feature_importance().argsort()[-10:][::-1]\n",
    "    print(x_train.columns[idx])\n",
    "\n",
    "\n",
    "### id_y  = contetent_rn을 count로 변환한 값\n",
    "### id = person_rn을 count로 변환한 값"
   ]
  },
  {
   "cell_type": "code",
   "execution_count": 20,
   "metadata": {},
   "outputs": [
    {
     "name": "stdout",
     "output_type": "stream",
     "text": [
      "0.39 : 0.7152005690696145 \n",
      "0.4 : 0.7149087513082059 \n",
      "0.41000000000000003 : 0.7144867389873769 \n",
      "0.42000000000000004 : 0.7139532760644545 \n"
     ]
    }
   ],
   "source": [
    "#Find Best Threshold\n",
    "\n",
    "pred_list = []\n",
    "scores = []\n",
    "\n",
    "thresholds = np.arange(0.39, 0.43, 0.01)\n",
    "for threshold in thresholds:\n",
    "    for i, (train, validation) in enumerate(cv.split(x_train)):\n",
    "        pred = models[i].predict_proba(x_train.iloc[validation])[:,1]\n",
    "        pred = np.where(pred >= threshold, 1, 0)\n",
    "        score = f1_score(y_train[validation], pred)\n",
    "        scores.append(score)\n",
    "        pred = models[i].predict_proba(x_test)[:,1]\n",
    "        pred_list.append(pred)\n",
    "    #print(scores)\n",
    "    print(f\"{threshold} : {np.mean(scores)} \")"
   ]
  },
  {
   "cell_type": "code",
   "execution_count": 40,
   "metadata": {},
   "outputs": [],
   "source": [
    "threshold = 0.39\n",
    "\n",
    "for i, (train, validation) in enumerate(cv.split(x_train)):\n",
    "    pred = models[i].predict_proba(x_train.iloc[validation])[:,1]\n",
    "    pred = np.where(pred >= threshold, 1, 0)\n",
    "    score = f1_score(y_train[validation], pred)\n",
    "    scores.append(score)\n",
    "    pred = models[i].predict_proba(x_test)[:,1]\n",
    "    pred_list.append(pred)\n",
    "pred = np.mean(pred_list, axis = 0)\n",
    "\n",
    "#pred"
   ]
  },
  {
   "cell_type": "code",
   "execution_count": 41,
   "metadata": {},
   "outputs": [
    {
     "data": {
      "text/plain": [
       "0.4997400144635632"
      ]
     },
     "execution_count": 41,
     "metadata": {},
     "output_type": "execute_result"
    }
   ],
   "source": [
    "train_df['target'].mean()"
   ]
  },
  {
   "cell_type": "code",
   "execution_count": 47,
   "metadata": {},
   "outputs": [
    {
     "name": "stdout",
     "output_type": "stream",
     "text": [
      "0.4775806916713207 0.4860356865787432\n"
     ]
    }
   ],
   "source": [
    "threshold = 0.5\n",
    "ans = np.where(pred >= threshold, 1, 0)\n",
    "print(pred.mean(), ans.mean())"
   ]
  },
  {
   "cell_type": "markdown",
   "metadata": {},
   "source": [
    "##########LGBM이랑 섞어보기"
   ]
  },
  {
   "cell_type": "code",
   "execution_count": 22,
   "metadata": {},
   "outputs": [],
   "source": [
    "lgbm = pd.read_pickle(\"lgbm.pkl\")\n",
    "\n",
    "final = []\n",
    "for i in range(len(pred)):\n",
    "    final.append(pred[i] + lgbm[i] / 2)\n",
    "\n",
    "#final\n"
   ]
  },
  {
   "cell_type": "code",
   "execution_count": 26,
   "metadata": {},
   "outputs": [
    {
     "data": {
      "text/plain": [
       "0.8257693302301525"
      ]
     },
     "execution_count": 26,
     "metadata": {},
     "output_type": "execute_result"
    }
   ],
   "source": [
    "ans = []\n",
    "for item in final:\n",
    "    if item >= 0.5:\n",
    "        ans.append(1)\n",
    "    else:\n",
    "        ans.append(0)\n",
    "sum(ans) / len(ans)"
   ]
  },
  {
   "cell_type": "code",
   "execution_count": 48,
   "metadata": {},
   "outputs": [
    {
     "data": {
      "text/html": [
       "<div>\n",
       "<style scoped>\n",
       "    .dataframe tbody tr th:only-of-type {\n",
       "        vertical-align: middle;\n",
       "    }\n",
       "\n",
       "    .dataframe tbody tr th {\n",
       "        vertical-align: top;\n",
       "    }\n",
       "\n",
       "    .dataframe thead th {\n",
       "        text-align: right;\n",
       "    }\n",
       "</style>\n",
       "<table border=\"1\" class=\"dataframe\">\n",
       "  <thead>\n",
       "    <tr style=\"text-align: right;\">\n",
       "      <th></th>\n",
       "      <th>id</th>\n",
       "      <th>target</th>\n",
       "    </tr>\n",
       "  </thead>\n",
       "  <tbody>\n",
       "    <tr>\n",
       "      <th>0</th>\n",
       "      <td>0</td>\n",
       "      <td>0</td>\n",
       "    </tr>\n",
       "    <tr>\n",
       "      <th>1</th>\n",
       "      <td>1</td>\n",
       "      <td>0</td>\n",
       "    </tr>\n",
       "    <tr>\n",
       "      <th>2</th>\n",
       "      <td>2</td>\n",
       "      <td>0</td>\n",
       "    </tr>\n",
       "    <tr>\n",
       "      <th>3</th>\n",
       "      <td>3</td>\n",
       "      <td>0</td>\n",
       "    </tr>\n",
       "    <tr>\n",
       "      <th>4</th>\n",
       "      <td>4</td>\n",
       "      <td>0</td>\n",
       "    </tr>\n",
       "    <tr>\n",
       "      <th>...</th>\n",
       "      <td>...</td>\n",
       "      <td>...</td>\n",
       "    </tr>\n",
       "    <tr>\n",
       "      <th>46399</th>\n",
       "      <td>46399</td>\n",
       "      <td>1</td>\n",
       "    </tr>\n",
       "    <tr>\n",
       "      <th>46400</th>\n",
       "      <td>46400</td>\n",
       "      <td>0</td>\n",
       "    </tr>\n",
       "    <tr>\n",
       "      <th>46401</th>\n",
       "      <td>46401</td>\n",
       "      <td>1</td>\n",
       "    </tr>\n",
       "    <tr>\n",
       "      <th>46402</th>\n",
       "      <td>46402</td>\n",
       "      <td>1</td>\n",
       "    </tr>\n",
       "    <tr>\n",
       "      <th>46403</th>\n",
       "      <td>46403</td>\n",
       "      <td>1</td>\n",
       "    </tr>\n",
       "  </tbody>\n",
       "</table>\n",
       "<p>46404 rows × 2 columns</p>\n",
       "</div>"
      ],
      "text/plain": [
       "          id  target\n",
       "0          0       0\n",
       "1          1       0\n",
       "2          2       0\n",
       "3          3       0\n",
       "4          4       0\n",
       "...      ...     ...\n",
       "46399  46399       1\n",
       "46400  46400       0\n",
       "46401  46401       1\n",
       "46402  46402       1\n",
       "46403  46403       1\n",
       "\n",
       "[46404 rows x 2 columns]"
      ]
     },
     "execution_count": 48,
     "metadata": {},
     "output_type": "execute_result"
    }
   ],
   "source": [
    "sample_submission = pd.read_csv('/home/mglee/VSCODE/Dacon/Jobcare_data/sample_submission.csv')\n",
    "sample_submission['target'] = ans\n",
    "sample_submission"
   ]
  },
  {
   "cell_type": "code",
   "execution_count": 32,
   "metadata": {},
   "outputs": [],
   "source": [
    "sample_submission.to_csv(\"/home/mglee/VSCODE/Dacon/Jobcare_data/prediction_0119_t5.csv\", index=False)"
   ]
  }
 ],
 "metadata": {
  "interpreter": {
   "hash": "c6f34507fa43ba317958b721fa8398d2051b96ef3f3b32ff98429c26ce06f8cf"
  },
  "kernelspec": {
   "display_name": "Python 3.8.5 64-bit ('svmglee': conda)",
   "language": "python",
   "name": "python3"
  },
  "language_info": {
   "codemirror_mode": {
    "name": "ipython",
    "version": 3
   },
   "file_extension": ".py",
   "mimetype": "text/x-python",
   "name": "python",
   "nbconvert_exporter": "python",
   "pygments_lexer": "ipython3",
   "version": "3.8.5"
  },
  "orig_nbformat": 4
 },
 "nbformat": 4,
 "nbformat_minor": 2
}
